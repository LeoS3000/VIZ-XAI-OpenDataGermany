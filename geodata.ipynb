{
 "cells": [
  {
   "cell_type": "code",
   "execution_count": 16,
   "id": "8ffc7afb",
   "metadata": {},
   "outputs": [
    {
     "name": "stdout",
     "output_type": "stream",
     "text": [
      "Requirement already satisfied: geopandas in ./.venv/lib/python3.13/site-packages (1.1.0)\n",
      "Requirement already satisfied: pandas in ./.venv/lib/python3.13/site-packages (2.3.0)\n",
      "Requirement already satisfied: matplotlib in ./.venv/lib/python3.13/site-packages (3.10.3)\n",
      "Requirement already satisfied: numpy>=1.24 in ./.venv/lib/python3.13/site-packages (from geopandas) (2.2.6)\n",
      "Requirement already satisfied: pyogrio>=0.7.2 in ./.venv/lib/python3.13/site-packages (from geopandas) (0.11.0)\n",
      "Requirement already satisfied: packaging in ./.venv/lib/python3.13/site-packages (from geopandas) (25.0)\n",
      "Requirement already satisfied: pyproj>=3.5.0 in ./.venv/lib/python3.13/site-packages (from geopandas) (3.7.1)\n",
      "Requirement already satisfied: shapely>=2.0.0 in ./.venv/lib/python3.13/site-packages (from geopandas) (2.1.1)\n",
      "Requirement already satisfied: python-dateutil>=2.8.2 in ./.venv/lib/python3.13/site-packages (from pandas) (2.9.0.post0)\n",
      "Requirement already satisfied: pytz>=2020.1 in ./.venv/lib/python3.13/site-packages (from pandas) (2025.2)\n",
      "Requirement already satisfied: tzdata>=2022.7 in ./.venv/lib/python3.13/site-packages (from pandas) (2025.2)\n",
      "Requirement already satisfied: contourpy>=1.0.1 in ./.venv/lib/python3.13/site-packages (from matplotlib) (1.3.2)\n",
      "Requirement already satisfied: cycler>=0.10 in ./.venv/lib/python3.13/site-packages (from matplotlib) (0.12.1)\n",
      "Requirement already satisfied: fonttools>=4.22.0 in ./.venv/lib/python3.13/site-packages (from matplotlib) (4.58.1)\n",
      "Requirement already satisfied: kiwisolver>=1.3.1 in ./.venv/lib/python3.13/site-packages (from matplotlib) (1.4.8)\n",
      "Requirement already satisfied: pillow>=8 in ./.venv/lib/python3.13/site-packages (from matplotlib) (11.2.1)\n",
      "Requirement already satisfied: pyparsing>=2.3.1 in ./.venv/lib/python3.13/site-packages (from matplotlib) (3.2.3)\n",
      "Requirement already satisfied: certifi in ./.venv/lib/python3.13/site-packages (from pyogrio>=0.7.2->geopandas) (2025.4.26)\n",
      "Requirement already satisfied: six>=1.5 in ./.venv/lib/python3.13/site-packages (from python-dateutil>=2.8.2->pandas) (1.17.0)\n"
     ]
    }
   ],
   "source": [
    "!pip install geopandas pandas matplotlib"
   ]
  },
  {
   "cell_type": "code",
   "execution_count": 18,
   "id": "23d8ac57",
   "metadata": {},
   "outputs": [
    {
     "name": "stdout",
     "output_type": "stream",
     "text": [
      "Collecting openpyxl\n",
      "  Using cached openpyxl-3.1.5-py2.py3-none-any.whl.metadata (2.5 kB)\n",
      "Collecting et-xmlfile (from openpyxl)\n",
      "  Using cached et_xmlfile-2.0.0-py3-none-any.whl.metadata (2.7 kB)\n",
      "Using cached openpyxl-3.1.5-py2.py3-none-any.whl (250 kB)\n",
      "Using cached et_xmlfile-2.0.0-py3-none-any.whl (18 kB)\n",
      "Installing collected packages: et-xmlfile, openpyxl\n",
      "\u001b[2K   \u001b[90m━━━━━━━━━━━━━━━━━━━━━━━━━━━━━━━━━━━━━━━━\u001b[0m \u001b[32m2/2\u001b[0m [openpyxl]1/2\u001b[0m [openpyxl]\n",
      "\u001b[1A\u001b[2KSuccessfully installed et-xmlfile-2.0.0 openpyxl-3.1.5\n"
     ]
    }
   ],
   "source": [
    "!pip install openpyxl"
   ]
  },
  {
   "cell_type": "code",
   "execution_count": 20,
   "id": "951a0da7",
   "metadata": {},
   "outputs": [
    {
     "name": "stderr",
     "output_type": "stream",
     "text": [
      "/Users/leostrietzel/Documents/Projekte/Codes/VIZ&XAI/.venv/lib/python3.13/site-packages/pyogrio/geopandas.py:275: UserWarning: More than one layer found in 'DE_VG250.gpkg': 'vg250_vwg' (default), 'vg250_sta', 'vg250_rbz', 'vg250_pk', 'vg250_li', 'vg250_lan', 'vg250_krs', 'vg250_gem', 'v_vg250_gem', 'v_vg250_vwg', 'v_vg250_krs', 'v_vg250_rbz', 'v_vg250_lan', 'v_vg250_sta', 'v_vg250_li', 'v_vg250_pk', 'v_vg250_f', 'v_vz250_gem', 'vgtb_vz_gem', 'vgtb_rgs_vg', 'vgtb_rgs_otl', 'vgtb_azb_vg', 'vg_werte', 'vg_ibz', 'vg_daten', 'v_at_vg', 'v_vgtb_att_vg', 'v_vgtb_azb_vg', 'v_vgtb_rgs_vg', 'v_vgtb_rgs_otl', 'v_vg_ibz', 'v_vg_sn_zahl', 'v_werte_agz', 'v_werte_rdg', 'v_werte_gm5', 'v_werte_gmk', 'v_werte_ade', 'v_werte_gf', 'v_werte_bsg', 'v_werte_nbd', 'v_werte_fks3', 'v_werte_spr'. Specify layer parameter to avoid this warning.\n",
      "  result = read_func(\n"
     ]
    }
   ],
   "source": [
    "import geopandas\n",
    "import zipfile\n",
    "import os\n",
    "import matplotlib.pyplot as plt # Often useful for customization\n",
    "\n",
    "geopackage_path = \"DE_VG250.gpkg\"\n",
    "# Similar to shapefiles, adjust the path if your zip contains multiple layers or folders.\n",
    "# If your GeoPackage has multiple layers, you might need to specify the layer:\n",
    "# gdf_gpkg = geopandas.read_file(geopackage_path, layer='my_specific_layer')\n",
    "\n",
    "gdf_gpkg = geopandas.read_file(geopackage_path)"
   ]
  },
  {
   "cell_type": "code",
   "execution_count": null,
   "id": "59340f3a",
   "metadata": {},
   "outputs": [],
   "source": [
    "print(\"\\nDisplaying GeoPackage...\")\n",
    "gdf_gpkg.plot(figsize=(10, 10))\n",
    "plt.title(\"GeoPackage Display\")\n",
    "plt.xlabel(\"Longitude\")\n",
    "plt.ylabel(\"Latitude\")\n",
    "plt.show()"
   ]
  },
  {
   "cell_type": "code",
   "execution_count": 9,
   "id": "1f626480",
   "metadata": {},
   "outputs": [
    {
     "data": {
      "text/html": [
       "<div>\n",
       "<style scoped>\n",
       "    .dataframe tbody tr th:only-of-type {\n",
       "        vertical-align: middle;\n",
       "    }\n",
       "\n",
       "    .dataframe tbody tr th {\n",
       "        vertical-align: top;\n",
       "    }\n",
       "\n",
       "    .dataframe thead th {\n",
       "        text-align: right;\n",
       "    }\n",
       "</style>\n",
       "<table border=\"1\" class=\"dataframe\">\n",
       "  <thead>\n",
       "    <tr style=\"text-align: right;\">\n",
       "      <th></th>\n",
       "      <th>OBJID</th>\n",
       "      <th>BEGINN</th>\n",
       "      <th>ADE</th>\n",
       "      <th>GF</th>\n",
       "      <th>BSG</th>\n",
       "      <th>ARS</th>\n",
       "      <th>AGS</th>\n",
       "      <th>SDV_ARS</th>\n",
       "      <th>BEZ</th>\n",
       "      <th>IBZ</th>\n",
       "      <th>...</th>\n",
       "      <th>SN_K</th>\n",
       "      <th>SN_V1</th>\n",
       "      <th>SN_V2</th>\n",
       "      <th>SN_G</th>\n",
       "      <th>FK_S3</th>\n",
       "      <th>NUTS</th>\n",
       "      <th>ARS_0</th>\n",
       "      <th>AGS_0</th>\n",
       "      <th>WSK</th>\n",
       "      <th>geometry</th>\n",
       "    </tr>\n",
       "    <tr>\n",
       "      <th>GEN</th>\n",
       "      <th></th>\n",
       "      <th></th>\n",
       "      <th></th>\n",
       "      <th></th>\n",
       "      <th></th>\n",
       "      <th></th>\n",
       "      <th></th>\n",
       "      <th></th>\n",
       "      <th></th>\n",
       "      <th></th>\n",
       "      <th></th>\n",
       "      <th></th>\n",
       "      <th></th>\n",
       "      <th></th>\n",
       "      <th></th>\n",
       "      <th></th>\n",
       "      <th></th>\n",
       "      <th></th>\n",
       "      <th></th>\n",
       "      <th></th>\n",
       "      <th></th>\n",
       "    </tr>\n",
       "  </thead>\n",
       "  <tbody>\n",
       "    <tr>\n",
       "      <th>Lüdinghausen</th>\n",
       "      <td>DEBKGVG5000009I8</td>\n",
       "      <td>2019-10-04</td>\n",
       "      <td>5</td>\n",
       "      <td>9</td>\n",
       "      <td>1</td>\n",
       "      <td>055580024</td>\n",
       "      <td>--------</td>\n",
       "      <td>055580024024</td>\n",
       "      <td>Gemeinschaftsfreie Gemeinde</td>\n",
       "      <td>88</td>\n",
       "      <td>...</td>\n",
       "      <td>58</td>\n",
       "      <td>00</td>\n",
       "      <td>24</td>\n",
       "      <td>000</td>\n",
       "      <td>R</td>\n",
       "      <td>DEA35</td>\n",
       "      <td>055580024000</td>\n",
       "      <td>--------</td>\n",
       "      <td>2009-01-01</td>\n",
       "      <td>MULTIPOLYGON (((380696.087 5737873.809, 382217...</td>\n",
       "    </tr>\n",
       "  </tbody>\n",
       "</table>\n",
       "<p>1 rows × 24 columns</p>\n",
       "</div>"
      ],
      "text/plain": [
       "                         OBJID     BEGINN  ADE  GF  BSG        ARS       AGS  \\\n",
       "GEN                                                                            \n",
       "Lüdinghausen  DEBKGVG5000009I8 2019-10-04    5   9    1  055580024  --------   \n",
       "\n",
       "                   SDV_ARS                          BEZ  IBZ  ... SN_K SN_V1  \\\n",
       "GEN                                                           ...              \n",
       "Lüdinghausen  055580024024  Gemeinschaftsfreie Gemeinde   88  ...   58    00   \n",
       "\n",
       "             SN_V2 SN_G FK_S3   NUTS         ARS_0     AGS_0        WSK  \\\n",
       "GEN                                                                       \n",
       "Lüdinghausen    24  000     R  DEA35  055580024000  -------- 2009-01-01   \n",
       "\n",
       "                                                       geometry  \n",
       "GEN                                                              \n",
       "Lüdinghausen  MULTIPOLYGON (((380696.087 5737873.809, 382217...  \n",
       "\n",
       "[1 rows x 24 columns]"
      ]
     },
     "execution_count": 9,
     "metadata": {},
     "output_type": "execute_result"
    }
   ],
   "source": [
    "gdf_gpkg = gdf_gpkg.set_index(\"GEN\")\n",
    "gdf_gpkg[\"ARS\"] = gdf_gpkg.ARS\n",
    "gdf_gpkg.filter(like=\"Lüdinghausen\", axis=0)"
   ]
  },
  {
   "cell_type": "code",
   "execution_count": null,
   "id": "9a2fefbb",
   "metadata": {},
   "outputs": [
    {
     "ename": "KeyError",
     "evalue": "\"None of ['GEN'] are in the columns\"",
     "output_type": "error",
     "traceback": [
      "\u001b[31m---------------------------------------------------------------------------\u001b[39m",
      "\u001b[31mKeyError\u001b[39m                                  Traceback (most recent call last)",
      "\u001b[32m/var/folders/08/sdc9d9hd11d_cqmwbwknztb00000gn/T/ipykernel_16998/1879390205.py\u001b[39m in \u001b[36m?\u001b[39m\u001b[34m()\u001b[39m\n\u001b[32m----> \u001b[39m\u001b[32m1\u001b[39m gdf_gpkg = gdf_gpkg.set_index(\u001b[33m\"GEN\"\u001b[39m)\n\u001b[32m      2\u001b[39m gdf_gpkg[\u001b[33m\"ARS\"\u001b[39m] = gdf_gpkg.ARS\n\u001b[32m      3\u001b[39m gdf_gpkg = gdf_gpkg.filter(like=\u001b[33m\"Lüdinghausen\"\u001b[39m, axis=\u001b[32m0\u001b[39m)\n\u001b[32m      4\u001b[39m gdf_gpkg\n",
      "\u001b[32m~/Documents/Projekte/Codes/VIZ&XAI/.venv/lib/python3.13/site-packages/pandas/core/frame.py\u001b[39m in \u001b[36m?\u001b[39m\u001b[34m(self, keys, drop, append, inplace, verify_integrity)\u001b[39m\n\u001b[32m   6125\u001b[39m                     \u001b[38;5;28;01mif\u001b[39;00m \u001b[38;5;28;01mnot\u001b[39;00m found:\n\u001b[32m   6126\u001b[39m                         missing.append(col)\n\u001b[32m   6127\u001b[39m \n\u001b[32m   6128\u001b[39m         \u001b[38;5;28;01mif\u001b[39;00m missing:\n\u001b[32m-> \u001b[39m\u001b[32m6129\u001b[39m             \u001b[38;5;28;01mraise\u001b[39;00m KeyError(f\"None of {missing} are in the columns\")\n\u001b[32m   6130\u001b[39m \n\u001b[32m   6131\u001b[39m         \u001b[38;5;28;01mif\u001b[39;00m inplace:\n\u001b[32m   6132\u001b[39m             frame = self\n",
      "\u001b[31mKeyError\u001b[39m: \"None of ['GEN'] are in the columns\""
     ]
    }
   ],
   "source": [
    "gdf_gpkg = gdf_gpkg.set_index(\"GEN\")\n",
    "gdf_gpkg[\"ARS\"] = gdf_gpkg.ARS\n",
    "gdf_gpkg = gdf_gpkg.filter(like=\"Lüdinghausen\", axis=0)\n"
   ]
  },
  {
   "cell_type": "code",
   "execution_count": 22,
   "id": "869993b6",
   "metadata": {},
   "outputs": [],
   "source": [
    "gdf_gpkg.to_excel(\"output2.xlsx\")"
   ]
  }
 ],
 "metadata": {
  "kernelspec": {
   "display_name": ".venv",
   "language": "python",
   "name": "python3"
  },
  "language_info": {
   "codemirror_mode": {
    "name": "ipython",
    "version": 3
   },
   "file_extension": ".py",
   "mimetype": "text/x-python",
   "name": "python",
   "nbconvert_exporter": "python",
   "pygments_lexer": "ipython3",
   "version": "3.13.3"
  }
 },
 "nbformat": 4,
 "nbformat_minor": 5
}
