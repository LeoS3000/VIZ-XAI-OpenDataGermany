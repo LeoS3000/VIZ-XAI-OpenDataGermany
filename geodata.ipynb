{
 "cells": [
  {
   "cell_type": "code",
   "execution_count": null,
   "id": "951a0da7",
   "metadata": {},
   "outputs": [],
   "source": [
    "import geopandas\n",
    "import zipfile\n",
    "import os\n",
    "import matplotlib.pyplot as plt # Often useful for customization\n",
    "\n",
    "# Assume your files are unzipped into a directory named 'extracted_data'\n",
    "# (as in the previous answer)\n",
    "output_dir = \"extracted_data\"\n",
    "\n",
    "# --- Example for a Shapefile ---\n",
    "shapefile_path = os.path.join(output_dir, \"your_shapefile_name.shp\")\n",
    "# Make sure to replace \"your_shapefile_name.shp\" with the actual .shp file inside your zip\n",
    "# For instance, if your zip was \"Ebenen (ZIP, 10 MB)\" it might contain a folder like \"Ebenen\"\n",
    "# and then \"layer.shp\" inside that. So the path might be:\n",
    "# shapefile_path = os.path.join(output_dir, \"Ebenen\", \"layer.shp\")\n",
    "\n",
    "try:\n",
    "    gdf_shapefile = geopandas.read_file(shapefile_path)\n",
    "    print(\"Displaying Shapefile...\")\n",
    "    gdf_shapefile.plot(figsize=(10, 10)) # Adjust figsize for better display\n",
    "    plt.title(\"Shapefile Display\")\n",
    "    plt.xlabel(\"Longitude\")\n",
    "    plt.ylabel(\"Latitude\")\n",
    "    plt.show()\n",
    "except Exception as e:\n",
    "    print(f\"Could not display shapefile: {e}\")\n",
    "\n",
    "# --- Example for a GeoPackage ---\n",
    "geopackage_path = os.path.join(output_dir, \"your_geopackage_name.gpkg\")\n",
    "# Similar to shapefiles, adjust the path if your zip contains multiple layers or folders.\n",
    "# If your GeoPackage has multiple layers, you might need to specify the layer:\n",
    "# gdf_gpkg = geopandas.read_file(geopackage_path, layer='my_specific_layer')\n",
    "\n",
    "try:\n",
    "    gdf_gpkg = geopandas.read_file(geopackage_path)\n",
    "    print(\"\\nDisplaying GeoPackage...\")\n",
    "    gdf_gpkg.plot(figsize=(10, 10))\n",
    "    plt.title(\"GeoPackage Display\")\n",
    "    plt.xlabel(\"Longitude\")\n",
    "    plt.ylabel(\"Latitude\")\n",
    "    plt.show()\n",
    "except Exception as e:\n",
    "    print(f\"Could not display GeoPackage: {e}\")"
   ]
  }
 ],
 "metadata": {
  "language_info": {
   "name": "python"
  }
 },
 "nbformat": 4,
 "nbformat_minor": 5
}
