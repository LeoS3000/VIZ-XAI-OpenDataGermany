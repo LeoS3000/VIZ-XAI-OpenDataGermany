{
 "cells": [
  {
   "cell_type": "markdown",
   "id": "3b643b56",
   "metadata": {},
   "source": [
    "# check torch"
   ]
  },
  {
   "cell_type": "code",
   "execution_count": null,
   "id": "dc1f2dcb",
   "metadata": {},
   "outputs": [],
   "source": [
    "import torch\n",
    "\n",
    "print(\"CUDA available?\", torch.cuda.is_available())\n",
    "print(\"Device count:\", torch.cuda.device_count())\n",
    "print(\"Device name:\", torch.cuda.get_device_name(0) if torch.cuda.is_available() else \"CPU\")\n"
   ]
  },
  {
   "cell_type": "code",
   "execution_count": null,
   "id": "ba9e50bc",
   "metadata": {},
   "outputs": [],
   "source": [
    "import torch\n",
    "device = torch.device(\"cuda\" if torch.cuda.is_available() else \"cpu\")\n",
    "print(\"Using device:\", device)\n"
   ]
  },
  {
   "cell_type": "markdown",
   "id": "b2ff0d9e",
   "metadata": {},
   "source": [
    "# Prepare Dataset"
   ]
  },
  {
   "cell_type": "code",
   "execution_count": null,
   "id": "3ed46b02",
   "metadata": {},
   "outputs": [],
   "source": [
    "import numpy as np\n",
    "from sklearn.model_selection import train_test_split\n",
    "from sklearn.preprocessing import StandardScaler\n",
    "import torch\n",
    "import pandas as pd\n",
    "import os\n",
    "df = pd.read_pickle('data/trainingData.pkl')\n",
    "miete_col = 'wohn_leer'\n",
    "\n",
    "df = df.drop(columns=[miete_col])\n",
    "X = df.drop(columns=['preis_miet_best','Gastronomy','All_Buildings','Cycleways','Water_Bodies','Fast_Food','Schools','Green_Areas','Building_Types','v_gsm','Buildings_With_Height_Levels','ko_kasskred','v_breitb50','v_lte','Bio-Läden','Landuse','p_markt','p_apo','bev_binw','heiz_wohn_best','v_5g','p_poli','fl_landw','p_freibad','v_breitb1000','Kindergartens','Health','Playgrounds','p_harzt','p_grunds','pfl_ambu','eauto','v_lte','st_einnkr','p_notfall','beschq_insg','Bio_Shops','mitgl_sportv','erw_mini','straft','elterng_v','p_ozmz_oev','kbetr_ue3','bev_entw','p_nelade','bquali_unifh','p_ozmz_miv','p_sek_2','kinder_bg','All_Highways'], axis=1).values\n",
    "\n",
    "y = df['preis_miet_best'].values"
   ]
  },
  {
   "cell_type": "code",
   "execution_count": null,
   "id": "73c9c841",
   "metadata": {},
   "outputs": [],
   "source": [
    "X.describe()"
   ]
  },
  {
   "cell_type": "code",
   "execution_count": null,
   "id": "f8d5bb2e",
   "metadata": {},
   "outputs": [],
   "source": [
    "\n",
    "# Split\n",
    "X_train, X_val, y_train, y_val = train_test_split(X, y, test_size=0.2, random_state=42)\n",
    "\n",
    "# Scale\n",
    "scaler = StandardScaler()\n",
    "X_train = scaler.fit_transform(X_train)\n",
    "X_val = scaler.transform(X_val)\n",
    "\n",
    "# Torch tensors\n",
    "X_train_tensor = torch.tensor(X_train, dtype=torch.float32).to(device)\n",
    "y_train_tensor = torch.tensor(y_train, dtype=torch.float32).to(device)  # use float32 for regression targets\n",
    "X_val_tensor = torch.tensor(X_val, dtype=torch.float32).to(device)\n",
    "y_val_tensor = torch.tensor(y_val, dtype=torch.float32).to(device)\n"
   ]
  },
  {
   "cell_type": "markdown",
   "id": "bddc3dbb",
   "metadata": {},
   "source": [
    "#  Create Dataset and DataLoader"
   ]
  },
  {
   "cell_type": "code",
   "execution_count": null,
   "id": "bebc18a6",
   "metadata": {},
   "outputs": [],
   "source": [
    "from torch.utils.data import TensorDataset, DataLoader\n",
    "\n",
    "train_dataset = TensorDataset(X_train_tensor, y_train_tensor)\n",
    "val_dataset = TensorDataset(X_val_tensor, y_val_tensor)\n"
   ]
  },
  {
   "cell_type": "markdown",
   "id": "76ab8e8b",
   "metadata": {},
   "source": [
    "# Define the Model Class"
   ]
  },
  {
   "cell_type": "code",
   "execution_count": null,
   "id": "37337a13",
   "metadata": {},
   "outputs": [],
   "source": [
    "import torch.nn as nn\n",
    "\n",
    "\n",
    "class TabularNN(nn.Module):\n",
    "    def __init__(self, input_dim, hidden_dims, dropout_rate, activation_fn):\n",
    "        super(TabularNN, self).__init__()\n",
    "        layers = []\n",
    "        prev_dim = input_dim\n",
    "        for h_dim in hidden_dims:\n",
    "            layers.append(nn.Linear(prev_dim, h_dim))\n",
    "            if activation_fn == 'relu':\n",
    "                layers.append(nn.ReLU())\n",
    "            elif activation_fn == 'tanh':\n",
    "                layers.append(nn.Tanh())\n",
    "            layers.append(nn.Dropout(dropout_rate))\n",
    "            prev_dim = h_dim\n",
    "        layers.append(nn.Linear(prev_dim, 1))  # output 1 value for regression\n",
    "        self.net = nn.Sequential(*layers)\n",
    "\n",
    "    def forward(self, x):\n",
    "        return self.net(x).squeeze(1)  # output shape: (batch_size,)\n",
    "\n"
   ]
  },
  {
   "cell_type": "markdown",
   "id": "a35f81b3",
   "metadata": {},
   "source": [
    "#  Define Training and Evaluation Functions"
   ]
  },
  {
   "cell_type": "code",
   "execution_count": null,
   "id": "835d4bb8",
   "metadata": {},
   "outputs": [],
   "source": [
    "def train_one_epoch(model, optimizer, criterion, dataloader, device):\n",
    "    model.train()\n",
    "    total_loss = 0\n",
    "    for X_batch, y_batch in dataloader:\n",
    "        X_batch, y_batch = X_batch.to(device), y_batch.float().to(device)\n",
    "        #print(f\"X_batch device inside train_one_epoch: {X_batch.device}\") # Add this line\n",
    "        optimizer.zero_grad()\n",
    "        outputs = model(X_batch)\n",
    "        loss = criterion(outputs, y_batch)\n",
    "        loss.backward()\n",
    "        optimizer.step()\n",
    "        total_loss += loss.item() * X_batch.size(0)\n",
    "    return total_loss / len(dataloader.dataset)\n",
    "\n",
    "def evaluate(model, dataloader, device):\n",
    "    model.eval()\n",
    "    criterion = torch.nn.MSELoss(reduction=\"sum\")  # Sum so we can compute RMSE ourselves\n",
    "    total_squared_error = 0.0\n",
    "    total_samples = 0\n",
    "\n",
    "    with torch.no_grad():\n",
    "        for X_batch, y_batch in dataloader:\n",
    "            X_batch, y_batch = X_batch.to(device), y_batch.float().to(device)\n",
    "            outputs = model(X_batch)\n",
    "            loss = criterion(outputs, y_batch)\n",
    "            total_squared_error += loss.item()\n",
    "            total_samples += y_batch.size(0)\n",
    "\n",
    "    mse = total_squared_error / total_samples\n",
    "    rmse = mse ** 0.5\n",
    "    return rmse\n",
    "\n"
   ]
  },
  {
   "cell_type": "markdown",
   "id": "155757a0",
   "metadata": {},
   "source": [
    "# Define the Optuna Objective Function"
   ]
  },
  {
   "cell_type": "code",
   "execution_count": null,
   "id": "8f3ab739",
   "metadata": {},
   "outputs": [],
   "source": [
    "import optuna\n",
    "\n",
    "def objective(trial):\n",
    "    try:\n",
    "        # sample hyperparams\n",
    "        hidden_dim1 = trial.suggest_int(\"hidden_dim1\", 32, 256)\n",
    "        hidden_dim2 = trial.suggest_int(\"hidden_dim2\", 32, 256)\n",
    "        dropout_rate = trial.suggest_float(\"dropout_rate\", 0.0, 0.5)\n",
    "        lr = trial.suggest_float(\"lr\", 1e-4, 1e-2, log=True)\n",
    "        batch_size = trial.suggest_categorical(\"batch_size\", [32, 64, 128])\n",
    "        activation_fn = trial.suggest_categorical(\"activation_fn\", [\"relu\", \"tanh\"])\n",
    "\n",
    "        model = TabularNN(\n",
    "            input_dim=52,\n",
    "            hidden_dims=[hidden_dim1, hidden_dim2],\n",
    "            dropout_rate=dropout_rate,\n",
    "            activation_fn=activation_fn,\n",
    "        ).to(device)\n",
    "\n",
    "        # DataLoader\n",
    "        train_loader = DataLoader(train_dataset, batch_size=batch_size, shuffle=True)\n",
    "        val_loader = DataLoader(val_dataset, batch_size=batch_size)\n",
    "\n",
    "        optimizer = torch.optim.Adam(model.parameters(), lr=lr)\n",
    "        criterion = torch.nn.MSELoss()\n",
    "\n",
    "        for epoch in range(10):\n",
    "            train_one_epoch(model, optimizer, criterion, train_loader, device)\n",
    "            val_rmse = evaluate(model, val_loader, device)\n",
    "            trial.report(val_rmse, epoch)\n",
    "\n",
    "            if trial.should_prune():\n",
    "                raise optuna.exceptions.TrialPruned()\n",
    "\n",
    "        return val_rmse\n",
    "\n",
    "    except Exception as e:\n",
    "        print(f\"Trial failed with exception: {e}\")\n",
    "        raise  # Reraise so Optuna logs the failure\n",
    "\n"
   ]
  },
  {
   "cell_type": "markdown",
   "id": "277184ba",
   "metadata": {},
   "source": [
    "# finer "
   ]
  },
  {
   "cell_type": "markdown",
   "id": "06df54e7",
   "metadata": {},
   "source": [
    "def objective(trial):\n",
    "    try:\n",
    "        hidden_dim1 = trial.suggest_int(\"hidden_dim1\", 100, 130)\n",
    "        hidden_dim2 = trial.suggest_int(\"hidden_dim2\", 98, 128)\n",
    "        dropout_rate = trial.suggest_float(\"dropout_rate\", 0.01, 0.05)\n",
    "        lr = trial.suggest_float(\"lr\", 1e-3, 3e-3, log=True)\n",
    "        batch_size = trial.suggest_categorical(\"batch_size\", [32, 64, 128])\n",
    "        activation_fn = trial.suggest_categorical(\"activation_fn\", [\"relu\", \"tanh\"])\n",
    "\n",
    "        model = TabularNN(\n",
    "            input_dim=100,\n",
    "            hidden_dims=[hidden_dim1, hidden_dim2],\n",
    "            dropout_rate=dropout_rate,\n",
    "            activation_fn=activation_fn,\n",
    "        ).to(device)\n",
    "\n",
    "        # DataLoader\n",
    "        train_loader = DataLoader(train_dataset, batch_size=batch_size, shuffle=True)\n",
    "        val_loader = DataLoader(val_dataset, batch_size=batch_size)\n",
    "\n",
    "        optimizer = torch.optim.Adam(model.parameters(), lr=lr)\n",
    "        criterion = torch.nn.MSELoss()\n",
    "\n",
    "        for epoch in range(10):\n",
    "            train_one_epoch(model, optimizer, criterion, train_loader, device)\n",
    "            val_rmse = evaluate(model, val_loader, device)\n",
    "            trial.report(val_rmse, epoch)\n",
    "\n",
    "            if trial.should_prune():\n",
    "                raise optuna.exceptions.TrialPruned()\n",
    "\n",
    "        return val_rmse\n",
    "\n",
    "    except Exception as e:\n",
    "        print(f\"Trial failed with exception: {e}\")\n",
    "        raise  # Reraise so Optuna logs the failure\n",
    "\n"
   ]
  },
  {
   "cell_type": "markdown",
   "id": "d4e0dda5",
   "metadata": {},
   "source": [
    "# Launch the Optimization"
   ]
  },
  {
   "cell_type": "code",
   "execution_count": null,
   "id": "17312924",
   "metadata": {},
   "outputs": [],
   "source": [
    "study = optuna.create_study(direction=\"minimize\")\n",
    "study.optimize(objective, n_trials=500)\n"
   ]
  },
  {
   "cell_type": "code",
   "execution_count": null,
   "id": "78fb796e",
   "metadata": {},
   "outputs": [],
   "source": [
    "print(X_train_tensor.device)"
   ]
  },
  {
   "cell_type": "markdown",
   "id": "8c34c557",
   "metadata": {},
   "source": [
    "#  Print and Save Best Result"
   ]
  },
  {
   "cell_type": "code",
   "execution_count": null,
   "id": "672315d6",
   "metadata": {},
   "outputs": [],
   "source": [
    "print(\"Best hyperparameters:\", study.best_params)\n",
    "print(f\"Best validation accuracy: {1.0 - study.best_value:.4f}\")\n",
    "best_params = study.best_params\n",
    "best_model = TabularNN(\n",
    "    input_dim=52,\n",
    "    hidden_dims=[best_params[\"hidden_dim1\"], best_params[\"hidden_dim2\"]],\n",
    "    dropout_rate=best_params[\"dropout_rate\"],\n",
    "    activation_fn=best_params[\"activation_fn\"],\n",
    ").to(device)\n",
    "\n",
    "# Dataloader\n",
    "train_loader = DataLoader(train_dataset, batch_size=best_params[\"batch_size\"], shuffle=True)\n",
    "val_loader = DataLoader(val_dataset, batch_size=best_params[\"batch_size\"], shuffle=False)\n",
    "\n",
    "optimizer = torch.optim.Adam(best_model.parameters(), lr=best_params[\"lr\"])\n",
    "criterion = nn.MSELoss()\n",
    "# Retrain\n",
    "for epoch in range(10):\n",
    "    train_one_epoch(best_model, optimizer, criterion, train_loader, device)\n",
    "\n",
    "torch.save(best_model.state_dict(), \"best_tabular_model_reduced.pt\")\n"
   ]
  }
 ],
 "metadata": {
  "kernelspec": {
   "display_name": ".venv",
   "language": "python",
   "name": "python3"
  },
  "language_info": {
   "codemirror_mode": {
    "name": "ipython",
    "version": 3
   },
   "file_extension": ".py",
   "mimetype": "text/x-python",
   "name": "python",
   "nbconvert_exporter": "python",
   "pygments_lexer": "ipython3",
   "version": "3.12.7"
  }
 },
 "nbformat": 4,
 "nbformat_minor": 5
}
