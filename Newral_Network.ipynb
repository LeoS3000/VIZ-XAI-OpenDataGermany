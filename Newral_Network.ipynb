{
 "cells": [
  {
   "cell_type": "markdown",
   "id": "3b643b56",
   "metadata": {},
   "source": [
    "# check torch"
   ]
  },
  {
   "cell_type": "code",
   "execution_count": 98,
   "id": "dc1f2dcb",
   "metadata": {},
   "outputs": [
    {
     "name": "stdout",
     "output_type": "stream",
     "text": [
      "CUDA available? True\n",
      "Device count: 1\n",
      "Device name: NVIDIA GeForce RTX 4070 SUPER\n"
     ]
    }
   ],
   "source": [
    "import torch\n",
    "\n",
    "print(\"CUDA available?\", torch.cuda.is_available())\n",
    "print(\"Device count:\", torch.cuda.device_count())\n",
    "print(\"Device name:\", torch.cuda.get_device_name(0) if torch.cuda.is_available() else \"CPU\")\n"
   ]
  },
  {
   "cell_type": "code",
   "execution_count": 99,
   "id": "ba9e50bc",
   "metadata": {},
   "outputs": [
    {
     "name": "stdout",
     "output_type": "stream",
     "text": [
      "Using device: cuda\n"
     ]
    }
   ],
   "source": [
    "import torch\n",
    "device = torch.device(\"cuda\" if torch.cuda.is_available() else \"cpu\")\n",
    "print(\"Using device:\", device)\n"
   ]
  },
  {
   "cell_type": "markdown",
   "id": "b2ff0d9e",
   "metadata": {},
   "source": [
    "# Prepare Dataset"
   ]
  },
  {
   "cell_type": "code",
   "execution_count": 100,
   "id": "3ed46b02",
   "metadata": {},
   "outputs": [],
   "source": [
    "import numpy as np\n",
    "from sklearn.model_selection import train_test_split\n",
    "from sklearn.preprocessing import StandardScaler\n",
    "import torch\n",
    "import pandas as pd\n",
    "import os\n",
    "df = pd.read_pickle('data/trainingData.pkl')\n",
    "miete_col = 'wohn_leer'\n",
    "\n",
    "df = df.drop(columns=[miete_col])\n",
    "X = df.drop(columns=['preis_miet_best'], axis=1).values\n",
    "y = df['preis_miet_best'].values\n"
   ]
  },
  {
   "cell_type": "code",
   "execution_count": 115,
   "id": "f8d5bb2e",
   "metadata": {},
   "outputs": [],
   "source": [
    "\n",
    "# Split\n",
    "X_train, X_val, y_train, y_val = train_test_split(X, y, test_size=0.2, random_state=42)\n",
    "\n",
    "# Scale\n",
    "scaler = StandardScaler()\n",
    "X_train = scaler.fit_transform(X_train)\n",
    "X_val = scaler.transform(X_val)\n",
    "\n",
    "# Torch tensors\n",
    "X_train_tensor = torch.tensor(X_train, dtype=torch.float32).to(device)\n",
    "y_train_tensor = torch.tensor(y_train, dtype=torch.float32).to(device)  # use float32 for regression targets\n",
    "X_val_tensor = torch.tensor(X_val, dtype=torch.float32).to(device)\n",
    "y_val_tensor = torch.tensor(y_val, dtype=torch.float32).to(device)\n"
   ]
  },
  {
   "cell_type": "markdown",
   "id": "bddc3dbb",
   "metadata": {},
   "source": [
    "#  Create Dataset and DataLoader"
   ]
  },
  {
   "cell_type": "code",
   "execution_count": 116,
   "id": "bebc18a6",
   "metadata": {},
   "outputs": [],
   "source": [
    "from torch.utils.data import TensorDataset, DataLoader\n",
    "\n",
    "train_dataset = TensorDataset(X_train_tensor, y_train_tensor)\n",
    "val_dataset = TensorDataset(X_val_tensor, y_val_tensor)\n"
   ]
  },
  {
   "cell_type": "markdown",
   "id": "76ab8e8b",
   "metadata": {},
   "source": [
    "# Define the Model Class"
   ]
  },
  {
   "cell_type": "code",
   "execution_count": 117,
   "id": "37337a13",
   "metadata": {},
   "outputs": [],
   "source": [
    "import torch.nn as nn\n",
    "\n",
    "\n",
    "class TabularNN(nn.Module):\n",
    "    def __init__(self, input_dim, hidden_dims, dropout_rate, activation_fn):\n",
    "        super(TabularNN, self).__init__()\n",
    "        layers = []\n",
    "        prev_dim = input_dim\n",
    "        for h_dim in hidden_dims:\n",
    "            layers.append(nn.Linear(prev_dim, h_dim))\n",
    "            if activation_fn == 'relu':\n",
    "                layers.append(nn.ReLU())\n",
    "            elif activation_fn == 'tanh':\n",
    "                layers.append(nn.Tanh())\n",
    "            layers.append(nn.Dropout(dropout_rate))\n",
    "            prev_dim = h_dim\n",
    "        layers.append(nn.Linear(prev_dim, 1))  # output 1 value for regression\n",
    "        self.net = nn.Sequential(*layers)\n",
    "\n",
    "    def forward(self, x):\n",
    "        return self.net(x).squeeze(1)  # output shape: (batch_size,)\n",
    "\n"
   ]
  },
  {
   "cell_type": "markdown",
   "id": "a35f81b3",
   "metadata": {},
   "source": [
    "#  Define Training and Evaluation Functions"
   ]
  },
  {
   "cell_type": "code",
   "execution_count": 120,
   "id": "835d4bb8",
   "metadata": {},
   "outputs": [],
   "source": [
    "def train_one_epoch(model, optimizer, criterion, dataloader, device):\n",
    "    model.train()\n",
    "    total_loss = 0\n",
    "    for X_batch, y_batch in dataloader:\n",
    "        X_batch, y_batch = X_batch.to(device), y_batch.float().to(device)\n",
    "        optimizer.zero_grad()\n",
    "        outputs = model(X_batch)\n",
    "        loss = criterion(outputs, y_batch)\n",
    "        loss.backward()\n",
    "        optimizer.step()\n",
    "        total_loss += loss.item() * X_batch.size(0)\n",
    "    return total_loss / len(dataloader.dataset)\n",
    "\n",
    "def evaluate(model, dataloader, device):\n",
    "    model.eval()\n",
    "    criterion = torch.nn.MSELoss(reduction=\"sum\")  # Sum so we can compute RMSE ourselves\n",
    "    total_squared_error = 0.0\n",
    "    total_samples = 0\n",
    "\n",
    "    with torch.no_grad():\n",
    "        for X_batch, y_batch in dataloader:\n",
    "            X_batch, y_batch = X_batch.to(device), y_batch.float().to(device)\n",
    "            outputs = model(X_batch)\n",
    "            loss = criterion(outputs, y_batch)\n",
    "            total_squared_error += loss.item()\n",
    "            total_samples += y_batch.size(0)\n",
    "\n",
    "    mse = total_squared_error / total_samples\n",
    "    rmse = mse ** 0.5\n",
    "    return rmse\n",
    "\n"
   ]
  },
  {
   "cell_type": "markdown",
   "id": "155757a0",
   "metadata": {},
   "source": [
    "# Define the Optuna Objective Function"
   ]
  },
  {
   "cell_type": "code",
   "execution_count": 121,
   "id": "8f3ab739",
   "metadata": {},
   "outputs": [],
   "source": [
    "import optuna\n",
    "\n",
    "def objective(trial):\n",
    "    try:\n",
    "        # sample hyperparams\n",
    "        hidden_dim1 = trial.suggest_int(\"hidden_dim1\", 32, 256)\n",
    "        hidden_dim2 = trial.suggest_int(\"hidden_dim2\", 32, 256)\n",
    "        dropout_rate = trial.suggest_float(\"dropout_rate\", 0.0, 0.5)\n",
    "        lr = trial.suggest_float(\"lr\", 1e-4, 1e-2, log=True)\n",
    "        batch_size = trial.suggest_categorical(\"batch_size\", [32, 64, 128])\n",
    "        activation_fn = trial.suggest_categorical(\"activation_fn\", [\"relu\", \"tanh\"])\n",
    "\n",
    "        model = TabularNN(\n",
    "            input_dim=100,\n",
    "            hidden_dims=[hidden_dim1, hidden_dim2],\n",
    "            dropout_rate=dropout_rate,\n",
    "            activation_fn=activation_fn,\n",
    "        ).to(device)\n",
    "\n",
    "        # DataLoader\n",
    "        train_loader = DataLoader(train_dataset, batch_size=batch_size, shuffle=True)\n",
    "        val_loader = DataLoader(val_dataset, batch_size=batch_size)\n",
    "\n",
    "        optimizer = torch.optim.Adam(model.parameters(), lr=lr)\n",
    "        criterion = torch.nn.MSELoss()\n",
    "\n",
    "        for epoch in range(10):\n",
    "            train_one_epoch(model, optimizer, criterion, train_loader, device)\n",
    "            val_rmse = evaluate(model, val_loader, device)\n",
    "            trial.report(val_rmse, epoch)\n",
    "\n",
    "            if trial.should_prune():\n",
    "                raise optuna.exceptions.TrialPruned()\n",
    "\n",
    "        return val_rmse\n",
    "\n",
    "    except Exception as e:\n",
    "        print(f\"Trial failed with exception: {e}\")\n",
    "        raise  # Reraise so Optuna logs the failure\n",
    "\n"
   ]
  },
  {
   "cell_type": "markdown",
   "id": "277184ba",
   "metadata": {},
   "source": [
    "# finer "
   ]
  },
  {
   "cell_type": "code",
   "execution_count": 95,
   "id": "06df54e7",
   "metadata": {},
   "outputs": [],
   "source": [
    "def objective(trial):\n",
    "    try:\n",
    "        hidden_dim1 = trial.suggest_int(\"hidden_dim1\", 100, 130)\n",
    "        hidden_dim2 = trial.suggest_int(\"hidden_dim2\", 98, 128)\n",
    "        dropout_rate = trial.suggest_float(\"dropout_rate\", 0.01, 0.05)\n",
    "        lr = trial.suggest_float(\"lr\", 1e-3, 3e-3, log=True)\n",
    "        batch_size = trial.suggest_categorical(\"batch_size\", [32, 64, 128])\n",
    "        activation_fn = trial.suggest_categorical(\"activation_fn\", [\"relu\", \"tanh\"])\n",
    "\n",
    "        model = TabularNN(\n",
    "            input_dim=100,\n",
    "            hidden_dims=[hidden_dim1, hidden_dim2],\n",
    "            dropout_rate=dropout_rate,\n",
    "            activation_fn=activation_fn,\n",
    "        ).to(device)\n",
    "\n",
    "        # DataLoader\n",
    "        train_loader = DataLoader(train_dataset, batch_size=batch_size, shuffle=True)\n",
    "        val_loader = DataLoader(val_dataset, batch_size=batch_size)\n",
    "\n",
    "        optimizer = torch.optim.Adam(model.parameters(), lr=lr)\n",
    "        criterion = torch.nn.MSELoss()\n",
    "\n",
    "        for epoch in range(10):\n",
    "            train_one_epoch(model, optimizer, criterion, train_loader, device)\n",
    "            val_rmse = evaluate(model, val_loader, device)\n",
    "            trial.report(val_rmse, epoch)\n",
    "\n",
    "            if trial.should_prune():\n",
    "                raise optuna.exceptions.TrialPruned()\n",
    "\n",
    "        return val_rmse\n",
    "\n",
    "    except Exception as e:\n",
    "        print(f\"Trial failed with exception: {e}\")\n",
    "        raise  # Reraise so Optuna logs the failure\n",
    "\n"
   ]
  },
  {
   "cell_type": "markdown",
   "id": "d4e0dda5",
   "metadata": {},
   "source": [
    "# Launch the Optimization"
   ]
  },
  {
   "cell_type": "code",
   "execution_count": null,
   "id": "17312924",
   "metadata": {},
   "outputs": [
    {
     "name": "stderr",
     "output_type": "stream",
     "text": [
      "[I 2025-07-08 21:05:34,949] A new study created in memory with name: no-name-d7b86a7e-8de3-4a9f-829d-5a00717bd6fb\n",
      "[I 2025-07-08 21:05:38,269] Trial 0 finished with value: 0.5974501145356033 and parameters: {'hidden_dim1': 137, 'hidden_dim2': 56, 'dropout_rate': 0.052712137844521556, 'lr': 0.00804896618267645, 'batch_size': 32, 'activation_fn': 'relu'}. Best is trial 0 with value: 0.5974501145356033.\n",
      "[I 2025-07-08 21:05:39,358] Trial 1 finished with value: 0.8023553786641573 and parameters: {'hidden_dim1': 123, 'hidden_dim2': 240, 'dropout_rate': 0.2985756927078828, 'lr': 0.0008548820788328283, 'batch_size': 128, 'activation_fn': 'relu'}. Best is trial 0 with value: 0.5974501145356033.\n",
      "[I 2025-07-08 21:05:41,140] Trial 2 finished with value: 0.4793029590149357 and parameters: {'hidden_dim1': 70, 'hidden_dim2': 233, 'dropout_rate': 0.04160877144799341, 'lr': 0.00227296157255192, 'batch_size': 64, 'activation_fn': 'tanh'}. Best is trial 2 with value: 0.4793029590149357.\n",
      "[I 2025-07-08 21:05:42,263] Trial 3 finished with value: 0.6576302456990112 and parameters: {'hidden_dim1': 195, 'hidden_dim2': 59, 'dropout_rate': 0.15037700082165267, 'lr': 0.0008934068083198192, 'batch_size': 128, 'activation_fn': 'tanh'}. Best is trial 2 with value: 0.4793029590149357.\n",
      "[I 2025-07-08 21:05:44,105] Trial 4 finished with value: 0.5500385054485897 and parameters: {'hidden_dim1': 33, 'hidden_dim2': 237, 'dropout_rate': 0.10620209507370709, 'lr': 0.005875012791274654, 'batch_size': 64, 'activation_fn': 'relu'}. Best is trial 2 with value: 0.4793029590149357.\n",
      "[I 2025-07-08 21:05:45,318] Trial 5 pruned. \n"
     ]
    },
    {
     "name": "stdout",
     "output_type": "stream",
     "text": [
      "Trial failed with exception: \n"
     ]
    },
    {
     "name": "stderr",
     "output_type": "stream",
     "text": [
      "[I 2025-07-08 21:05:45,556] Trial 6 pruned. \n"
     ]
    },
    {
     "name": "stdout",
     "output_type": "stream",
     "text": [
      "Trial failed with exception: \n"
     ]
    },
    {
     "name": "stderr",
     "output_type": "stream",
     "text": [
      "[I 2025-07-08 21:05:49,052] Trial 7 finished with value: 0.5368477700756129 and parameters: {'hidden_dim1': 50, 'hidden_dim2': 138, 'dropout_rate': 0.08314526874901257, 'lr': 0.00981854412155033, 'batch_size': 32, 'activation_fn': 'relu'}. Best is trial 2 with value: 0.4793029590149357.\n",
      "[I 2025-07-08 21:05:49,445] Trial 8 pruned. \n"
     ]
    },
    {
     "name": "stdout",
     "output_type": "stream",
     "text": [
      "Trial failed with exception: \n"
     ]
    },
    {
     "name": "stderr",
     "output_type": "stream",
     "text": [
      "[I 2025-07-08 21:05:52,874] Trial 9 finished with value: 0.5532387151164914 and parameters: {'hidden_dim1': 165, 'hidden_dim2': 90, 'dropout_rate': 0.20699040324653528, 'lr': 0.004043882256165658, 'batch_size': 32, 'activation_fn': 'tanh'}. Best is trial 2 with value: 0.4793029590149357.\n",
      "[I 2025-07-08 21:05:53,076] Trial 10 pruned. \n"
     ]
    },
    {
     "name": "stdout",
     "output_type": "stream",
     "text": [
      "Trial failed with exception: \n"
     ]
    },
    {
     "name": "stderr",
     "output_type": "stream",
     "text": [
      "[I 2025-07-08 21:05:53,414] Trial 11 pruned. \n"
     ]
    },
    {
     "name": "stdout",
     "output_type": "stream",
     "text": [
      "Trial failed with exception: \n"
     ]
    },
    {
     "name": "stderr",
     "output_type": "stream",
     "text": [
      "[I 2025-07-08 21:05:54,925] Trial 12 pruned. \n"
     ]
    },
    {
     "name": "stdout",
     "output_type": "stream",
     "text": [
      "Trial failed with exception: \n"
     ]
    },
    {
     "name": "stderr",
     "output_type": "stream",
     "text": [
      "[I 2025-07-08 21:05:55,306] Trial 13 pruned. \n",
      "[I 2025-07-08 21:05:55,499] Trial 14 pruned. \n"
     ]
    },
    {
     "name": "stdout",
     "output_type": "stream",
     "text": [
      "Trial failed with exception: \n",
      "Trial failed with exception: \n"
     ]
    },
    {
     "name": "stderr",
     "output_type": "stream",
     "text": [
      "[I 2025-07-08 21:05:56,166] Trial 15 pruned. \n",
      "[I 2025-07-08 21:05:56,358] Trial 16 pruned. \n"
     ]
    },
    {
     "name": "stdout",
     "output_type": "stream",
     "text": [
      "Trial failed with exception: \n",
      "Trial failed with exception: \n"
     ]
    },
    {
     "name": "stderr",
     "output_type": "stream",
     "text": [
      "[I 2025-07-08 21:05:58,948] Trial 17 pruned. \n"
     ]
    },
    {
     "name": "stdout",
     "output_type": "stream",
     "text": [
      "Trial failed with exception: \n"
     ]
    },
    {
     "name": "stderr",
     "output_type": "stream",
     "text": [
      "[I 2025-07-08 21:05:59,163] Trial 18 pruned. \n"
     ]
    },
    {
     "name": "stdout",
     "output_type": "stream",
     "text": [
      "Trial failed with exception: \n"
     ]
    },
    {
     "name": "stderr",
     "output_type": "stream",
     "text": [
      "[I 2025-07-08 21:05:59,875] Trial 19 pruned. \n"
     ]
    },
    {
     "name": "stdout",
     "output_type": "stream",
     "text": [
      "Trial failed with exception: \n"
     ]
    },
    {
     "name": "stderr",
     "output_type": "stream",
     "text": [
      "[I 2025-07-08 21:06:00,240] Trial 20 pruned. \n"
     ]
    },
    {
     "name": "stdout",
     "output_type": "stream",
     "text": [
      "Trial failed with exception: \n"
     ]
    },
    {
     "name": "stderr",
     "output_type": "stream",
     "text": [
      "[I 2025-07-08 21:06:02,122] Trial 21 finished with value: 0.6001132798496961 and parameters: {'hidden_dim1': 42, 'hidden_dim2': 234, 'dropout_rate': 0.09328506580996065, 'lr': 0.0056731403547902225, 'batch_size': 64, 'activation_fn': 'relu'}. Best is trial 2 with value: 0.4793029590149357.\n",
      "[I 2025-07-08 21:06:02,516] Trial 22 pruned. \n"
     ]
    },
    {
     "name": "stdout",
     "output_type": "stream",
     "text": [
      "Trial failed with exception: \n"
     ]
    },
    {
     "name": "stderr",
     "output_type": "stream",
     "text": [
      "[I 2025-07-08 21:06:02,931] Trial 23 pruned. \n"
     ]
    },
    {
     "name": "stdout",
     "output_type": "stream",
     "text": [
      "Trial failed with exception: \n"
     ]
    },
    {
     "name": "stderr",
     "output_type": "stream",
     "text": [
      "[I 2025-07-08 21:06:03,343] Trial 24 pruned. \n"
     ]
    },
    {
     "name": "stdout",
     "output_type": "stream",
     "text": [
      "Trial failed with exception: \n"
     ]
    },
    {
     "name": "stderr",
     "output_type": "stream",
     "text": [
      "[I 2025-07-08 21:06:03,748] Trial 25 pruned. \n"
     ]
    },
    {
     "name": "stdout",
     "output_type": "stream",
     "text": [
      "Trial failed with exception: \n"
     ]
    },
    {
     "name": "stderr",
     "output_type": "stream",
     "text": [
      "[I 2025-07-08 21:06:04,552] Trial 26 pruned. \n",
      "[I 2025-07-08 21:06:04,763] Trial 27 pruned. \n"
     ]
    },
    {
     "name": "stdout",
     "output_type": "stream",
     "text": [
      "Trial failed with exception: \n",
      "Trial failed with exception: \n"
     ]
    },
    {
     "name": "stderr",
     "output_type": "stream",
     "text": [
      "[I 2025-07-08 21:06:05,006] Trial 28 pruned. \n"
     ]
    },
    {
     "name": "stdout",
     "output_type": "stream",
     "text": [
      "Trial failed with exception: \n"
     ]
    },
    {
     "name": "stderr",
     "output_type": "stream",
     "text": [
      "[I 2025-07-08 21:06:05,735] Trial 29 pruned. \n"
     ]
    },
    {
     "name": "stdout",
     "output_type": "stream",
     "text": [
      "Trial failed with exception: \n"
     ]
    },
    {
     "name": "stderr",
     "output_type": "stream",
     "text": [
      "[I 2025-07-08 21:06:06,410] Trial 30 pruned. \n"
     ]
    },
    {
     "name": "stdout",
     "output_type": "stream",
     "text": [
      "Trial failed with exception: \n"
     ]
    },
    {
     "name": "stderr",
     "output_type": "stream",
     "text": [
      "[I 2025-07-08 21:06:09,751] Trial 31 finished with value: 0.545499456969402 and parameters: {'hidden_dim1': 156, 'hidden_dim2': 95, 'dropout_rate': 0.22850141522594658, 'lr': 0.0044382914002187275, 'batch_size': 32, 'activation_fn': 'tanh'}. Best is trial 2 with value: 0.4793029590149357.\n",
      "[I 2025-07-08 21:06:11,118] Trial 32 pruned. \n"
     ]
    },
    {
     "name": "stdout",
     "output_type": "stream",
     "text": [
      "Trial failed with exception: \n"
     ]
    },
    {
     "name": "stderr",
     "output_type": "stream",
     "text": [
      "[I 2025-07-08 21:06:11,818] Trial 33 pruned. \n"
     ]
    },
    {
     "name": "stdout",
     "output_type": "stream",
     "text": [
      "Trial failed with exception: \n"
     ]
    },
    {
     "name": "stderr",
     "output_type": "stream",
     "text": [
      "[I 2025-07-08 21:06:12,069] Trial 34 pruned. \n"
     ]
    },
    {
     "name": "stdout",
     "output_type": "stream",
     "text": [
      "Trial failed with exception: \n"
     ]
    },
    {
     "name": "stderr",
     "output_type": "stream",
     "text": [
      "[I 2025-07-08 21:06:13,422] Trial 35 pruned. \n"
     ]
    },
    {
     "name": "stdout",
     "output_type": "stream",
     "text": [
      "Trial failed with exception: \n"
     ]
    },
    {
     "name": "stderr",
     "output_type": "stream",
     "text": [
      "[I 2025-07-08 21:06:13,938] Trial 36 pruned. \n"
     ]
    },
    {
     "name": "stdout",
     "output_type": "stream",
     "text": [
      "Trial failed with exception: \n"
     ]
    },
    {
     "name": "stderr",
     "output_type": "stream",
     "text": [
      "[I 2025-07-08 21:06:15,332] Trial 37 pruned. \n",
      "[I 2025-07-08 21:06:15,539] Trial 38 pruned. \n"
     ]
    },
    {
     "name": "stdout",
     "output_type": "stream",
     "text": [
      "Trial failed with exception: \n",
      "Trial failed with exception: \n"
     ]
    },
    {
     "name": "stderr",
     "output_type": "stream",
     "text": [
      "[I 2025-07-08 21:06:16,019] Trial 39 pruned. \n"
     ]
    },
    {
     "name": "stdout",
     "output_type": "stream",
     "text": [
      "Trial failed with exception: \n"
     ]
    },
    {
     "name": "stderr",
     "output_type": "stream",
     "text": [
      "[I 2025-07-08 21:06:19,310] Trial 40 finished with value: 0.4976669663308544 and parameters: {'hidden_dim1': 45, 'hidden_dim2': 35, 'dropout_rate': 0.021778034731433, 'lr': 0.004611339460778644, 'batch_size': 32, 'activation_fn': 'tanh'}. Best is trial 2 with value: 0.4793029590149357.\n",
      "[I 2025-07-08 21:06:22,649] Trial 41 finished with value: 0.4789719005087975 and parameters: {'hidden_dim1': 42, 'hidden_dim2': 66, 'dropout_rate': 0.024156321210524023, 'lr': 0.0048088319073029875, 'batch_size': 32, 'activation_fn': 'tanh'}. Best is trial 41 with value: 0.4789719005087975.\n",
      "[I 2025-07-08 21:06:22,994] Trial 42 pruned. \n"
     ]
    },
    {
     "name": "stdout",
     "output_type": "stream",
     "text": [
      "Trial failed with exception: \n"
     ]
    },
    {
     "name": "stderr",
     "output_type": "stream",
     "text": [
      "[I 2025-07-08 21:06:26,304] Trial 43 finished with value: 0.49872262027150466 and parameters: {'hidden_dim1': 80, 'hidden_dim2': 61, 'dropout_rate': 0.039572110097912616, 'lr': 0.004806568440940518, 'batch_size': 32, 'activation_fn': 'tanh'}. Best is trial 41 with value: 0.4789719005087975.\n",
      "[I 2025-07-08 21:06:26,676] Trial 44 pruned. \n"
     ]
    },
    {
     "name": "stdout",
     "output_type": "stream",
     "text": [
      "Trial failed with exception: \n"
     ]
    },
    {
     "name": "stderr",
     "output_type": "stream",
     "text": [
      "[I 2025-07-08 21:06:27,473] Trial 45 pruned. \n"
     ]
    },
    {
     "name": "stdout",
     "output_type": "stream",
     "text": [
      "Trial failed with exception: \n"
     ]
    },
    {
     "name": "stderr",
     "output_type": "stream",
     "text": [
      "[I 2025-07-08 21:06:30,938] Trial 46 finished with value: 0.4764418502448168 and parameters: {'hidden_dim1': 44, 'hidden_dim2': 68, 'dropout_rate': 0.002512680752435867, 'lr': 0.008245547259083857, 'batch_size': 32, 'activation_fn': 'tanh'}. Best is trial 46 with value: 0.4764418502448168.\n",
      "[I 2025-07-08 21:06:31,304] Trial 47 pruned. \n"
     ]
    },
    {
     "name": "stdout",
     "output_type": "stream",
     "text": [
      "Trial failed with exception: \n"
     ]
    },
    {
     "name": "stderr",
     "output_type": "stream",
     "text": [
      "[I 2025-07-08 21:06:31,675] Trial 48 pruned. \n"
     ]
    },
    {
     "name": "stdout",
     "output_type": "stream",
     "text": [
      "Trial failed with exception: \n"
     ]
    },
    {
     "name": "stderr",
     "output_type": "stream",
     "text": [
      "[I 2025-07-08 21:06:35,040] Trial 49 finished with value: 0.5495892205716814 and parameters: {'hidden_dim1': 72, 'hidden_dim2': 32, 'dropout_rate': 0.037699649357409805, 'lr': 0.006267879608594387, 'batch_size': 32, 'activation_fn': 'tanh'}. Best is trial 46 with value: 0.4764418502448168.\n",
      "[I 2025-07-08 21:06:35,372] Trial 50 pruned. \n"
     ]
    },
    {
     "name": "stdout",
     "output_type": "stream",
     "text": [
      "Trial failed with exception: \n"
     ]
    },
    {
     "name": "stderr",
     "output_type": "stream",
     "text": [
      "[I 2025-07-08 21:06:37,634] Trial 51 pruned. \n"
     ]
    },
    {
     "name": "stdout",
     "output_type": "stream",
     "text": [
      "Trial failed with exception: \n"
     ]
    },
    {
     "name": "stderr",
     "output_type": "stream",
     "text": [
      "[I 2025-07-08 21:06:37,964] Trial 52 pruned. \n"
     ]
    },
    {
     "name": "stdout",
     "output_type": "stream",
     "text": [
      "Trial failed with exception: \n"
     ]
    },
    {
     "name": "stderr",
     "output_type": "stream",
     "text": [
      "[I 2025-07-08 21:06:41,268] Trial 53 finished with value: 0.47458772048052317 and parameters: {'hidden_dim1': 89, 'hidden_dim2': 66, 'dropout_rate': 0.04323331497077106, 'lr': 0.0067325783199970665, 'batch_size': 32, 'activation_fn': 'tanh'}. Best is trial 53 with value: 0.47458772048052317.\n"
     ]
    }
   ],
   "source": [
    "study = optuna.create_study(direction=\"minimize\")\n",
    "study.optimize(objective, n_trials=500)\n"
   ]
  },
  {
   "cell_type": "code",
   "execution_count": 114,
   "id": "78fb796e",
   "metadata": {},
   "outputs": [
    {
     "name": "stdout",
     "output_type": "stream",
     "text": [
      "cpu\n"
     ]
    }
   ],
   "source": [
    "print(X_train_tensor.device)"
   ]
  },
  {
   "cell_type": "markdown",
   "id": "8c34c557",
   "metadata": {},
   "source": [
    "#  Print and Save Best Result"
   ]
  },
  {
   "cell_type": "code",
   "execution_count": null,
   "id": "672315d6",
   "metadata": {},
   "outputs": [
    {
     "name": "stdout",
     "output_type": "stream",
     "text": [
      "Best hyperparameters: {'hidden_dim1': 108, 'hidden_dim2': 110, 'dropout_rate': 0.013793323529972864, 'lr': 0.0029455288566947136, 'batch_size': 32, 'activation_fn': 'tanh'}\n",
      "Best validation accuracy: 0.4746\n"
     ]
    }
   ],
   "source": [
    "print(\"Best hyperparameters:\", study.best_params)\n",
    "print(f\"Best validation accuracy: {1.0 - study.best_value:.4f}\")\n",
    "best_params = study.best_params\n",
    "best_model = TabularNN(\n",
    "    input_dim=100,\n",
    "    hidden_dims=[best_params[\"hidden_dim1\"], best_params[\"hidden_dim2\"]],\n",
    "    dropout_rate=best_params[\"dropout_rate\"],\n",
    "    activation_fn=best_params[\"activation_fn\"],\n",
    ").to(device)\n",
    "\n",
    "# Dataloader\n",
    "train_loader = DataLoader(train_dataset, batch_size=best_params[\"batch_size\"], shuffle=True)\n",
    "val_loader = DataLoader(val_dataset, batch_size=best_params[\"batch_size\"], shuffle=False)\n",
    "\n",
    "optimizer = torch.optim.Adam(best_model.parameters(), lr=best_params[\"lr\"])\n",
    "criterion = nn.MSELoss()\n",
    "# Retrain\n",
    "for epoch in range(10):\n",
    "    train_one_epoch(best_model, optimizer, criterion, train_loader, device)\n",
    "\n",
    "#torch.save(best_model.state_dict(), \"best_tabular_model.pt\")\n"
   ]
  },
  {
   "cell_type": "code",
   "execution_count": 97,
   "id": "1b55450f",
   "metadata": {},
   "outputs": [
    {
     "name": "stdout",
     "output_type": "stream",
     "text": [
      "torch.cuda.is_available(): True\n"
     ]
    },
    {
     "ename": "NameError",
     "evalue": "name 'model' is not defined",
     "output_type": "error",
     "traceback": [
      "\u001b[31m---------------------------------------------------------------------------\u001b[39m",
      "\u001b[31mNameError\u001b[39m                                 Traceback (most recent call last)",
      "\u001b[36mCell\u001b[39m\u001b[36m \u001b[39m\u001b[32mIn[97]\u001b[39m\u001b[32m, line 4\u001b[39m\n\u001b[32m      1\u001b[39m \u001b[38;5;28mprint\u001b[39m(\u001b[33m\"\u001b[39m\u001b[33mtorch.cuda.is_available():\u001b[39m\u001b[33m\"\u001b[39m, torch.cuda.is_available())\n\u001b[32m      3\u001b[39m \u001b[38;5;66;03m# After creating the model\u001b[39;00m\n\u001b[32m----> \u001b[39m\u001b[32m4\u001b[39m \u001b[38;5;28mprint\u001b[39m(\u001b[38;5;28mnext\u001b[39m(\u001b[43mmodel\u001b[49m.parameters()).device)\n\u001b[32m      6\u001b[39m \u001b[38;5;66;03m# In training loop, after moving to device\u001b[39;00m\n\u001b[32m      7\u001b[39m \u001b[38;5;28mprint\u001b[39m(X_batch.device)\n",
      "\u001b[31mNameError\u001b[39m: name 'model' is not defined"
     ]
    }
   ],
   "source": [
    "print(\"torch.cuda.is_available():\", torch.cuda.is_available())\n",
    "\n",
    "# After creating the model\n",
    "print(next(model.parameters()).device)\n",
    "\n",
    "# In training loop, after moving to device\n",
    "print(X_batch.device)\n",
    "print(y_batch.device)\n"
   ]
  }
 ],
 "metadata": {
  "kernelspec": {
   "display_name": ".venv",
   "language": "python",
   "name": "python3"
  },
  "language_info": {
   "codemirror_mode": {
    "name": "ipython",
    "version": 3
   },
   "file_extension": ".py",
   "mimetype": "text/x-python",
   "name": "python",
   "nbconvert_exporter": "python",
   "pygments_lexer": "ipython3",
   "version": "3.12.7"
  }
 },
 "nbformat": 4,
 "nbformat_minor": 5
}
