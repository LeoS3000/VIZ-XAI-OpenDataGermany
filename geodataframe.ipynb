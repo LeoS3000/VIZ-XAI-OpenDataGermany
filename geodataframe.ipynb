{
 "cells": [
  {
   "cell_type": "markdown",
   "id": "d127166a",
   "metadata": {},
   "source": [
    "## install osmium-tool for effiecent extraction (macos only, for windows use conda)\n",
    "[Anaconda.org](https://anaconda.org/conda-forge/osmium-tool)"
   ]
  },
  {
   "cell_type": "code",
   "execution_count": 1,
   "id": "49c12d2d",
   "metadata": {},
   "outputs": [
    {
     "name": "stderr",
     "output_type": "stream",
     "text": [
      "'conda' is not recognized as an internal or external command,\n",
      "operable program or batch file.\n"
     ]
    }
   ],
   "source": [
    "#!brew install osmium-tool\n",
    "\n",
    "!conda install conda-forge::osmium-tool"
   ]
  },
  {
   "cell_type": "markdown",
   "id": "71b73625",
   "metadata": {},
   "source": [
    "# Extract relevant OSM Features of Germany, convert the cooridate system to EPSG:25832 and convert to GeoJson with *ogr2ogr*"
   ]
  },
  {
   "cell_type": "code",
   "execution_count": 1,
   "id": "f2c5ce0a",
   "metadata": {},
   "outputs": [
    {
     "name": "stdout",
     "output_type": "stream",
     "text": [
      "Extrahiert: data/bio_shops.osm.pbf\n"
     ]
    },
    {
     "name": "stderr",
     "output_type": "stream",
     "text": [
      "'osmium' is not recognized as an internal or external command,\n",
      "operable program or batch file.\n"
     ]
    },
    {
     "name": "stdout",
     "output_type": "stream",
     "text": [
      "Extrahiert: data/playgrounds.osm.pbf\n"
     ]
    },
    {
     "name": "stderr",
     "output_type": "stream",
     "text": [
      "'osmium' is not recognized as an internal or external command,\n",
      "operable program or batch file.\n"
     ]
    },
    {
     "name": "stdout",
     "output_type": "stream",
     "text": [
      "Extrahiert: data/hotels_hostels.osm.pbf\n"
     ]
    },
    {
     "name": "stderr",
     "output_type": "stream",
     "text": [
      "'osmium' is not recognized as an internal or external command,\n",
      "operable program or batch file.\n"
     ]
    },
    {
     "name": "stdout",
     "output_type": "stream",
     "text": [
      "Extrahiert: data/gastronomy.osm.pbf\n"
     ]
    },
    {
     "name": "stderr",
     "output_type": "stream",
     "text": [
      "'osmium' is not recognized as an internal or external command,\n",
      "operable program or batch file.\n"
     ]
    },
    {
     "name": "stdout",
     "output_type": "stream",
     "text": [
      "Extrahiert: data/fast_food.osm.pbf\n"
     ]
    },
    {
     "name": "stderr",
     "output_type": "stream",
     "text": [
      "'osmium' is not recognized as an internal or external command,\n",
      "operable program or batch file.\n"
     ]
    },
    {
     "name": "stdout",
     "output_type": "stream",
     "text": [
      "Extrahiert: data/schools.osm.pbf\n"
     ]
    },
    {
     "name": "stderr",
     "output_type": "stream",
     "text": [
      "'osmium' is not recognized as an internal or external command,\n",
      "operable program or batch file.\n"
     ]
    },
    {
     "name": "stdout",
     "output_type": "stream",
     "text": [
      "Extrahiert: data/kindergartens.osm.pbf\n"
     ]
    },
    {
     "name": "stderr",
     "output_type": "stream",
     "text": [
      "'osmium' is not recognized as an internal or external command,\n",
      "operable program or batch file.\n"
     ]
    },
    {
     "name": "stdout",
     "output_type": "stream",
     "text": [
      "Extrahiert: data/green_areas.osm.pbf\n"
     ]
    },
    {
     "name": "stderr",
     "output_type": "stream",
     "text": [
      "'osmium' is not recognized as an internal or external command,\n",
      "operable program or batch file.\n"
     ]
    },
    {
     "name": "stdout",
     "output_type": "stream",
     "text": [
      "Extrahiert: data/water_bodies.osm.pbf\n"
     ]
    },
    {
     "name": "stderr",
     "output_type": "stream",
     "text": [
      "'osmium' is not recognized as an internal or external command,\n",
      "operable program or batch file.\n"
     ]
    },
    {
     "name": "stdout",
     "output_type": "stream",
     "text": [
      "Extrahiert: data/landuse.osm.pbf\n"
     ]
    },
    {
     "name": "stderr",
     "output_type": "stream",
     "text": [
      "'osmium' is not recognized as an internal or external command,\n",
      "operable program or batch file.\n"
     ]
    },
    {
     "name": "stdout",
     "output_type": "stream",
     "text": [
      "Extrahiert: data/building_types.osm.pbf\n"
     ]
    },
    {
     "name": "stderr",
     "output_type": "stream",
     "text": [
      "'osmium' is not recognized as an internal or external command,\n",
      "operable program or batch file.\n",
      "'osmium' is not recognized as an internal or external command,\n",
      "operable program or batch file.\n"
     ]
    },
    {
     "name": "stdout",
     "output_type": "stream",
     "text": [
      "Extrahiert: data/all_buildings.osm.pbf\n"
     ]
    },
    {
     "name": "stderr",
     "output_type": "stream",
     "text": [
      "'osmium' is not recognized as an internal or external command,\n",
      "operable program or batch file.\n"
     ]
    },
    {
     "name": "stdout",
     "output_type": "stream",
     "text": [
      "Extrahiert: data/buildings_with_height_levels.osm.pbf\n",
      "Extrahiert: data/health.osm.pbf\n"
     ]
    },
    {
     "name": "stderr",
     "output_type": "stream",
     "text": [
      "'osmium' is not recognized as an internal or external command,\n",
      "operable program or batch file.\n"
     ]
    },
    {
     "name": "stdout",
     "output_type": "stream",
     "text": [
      "Extrahiert: data/finance.osm.pbf\n"
     ]
    },
    {
     "name": "stderr",
     "output_type": "stream",
     "text": [
      "'osmium' is not recognized as an internal or external command,\n",
      "operable program or batch file.\n"
     ]
    },
    {
     "name": "stdout",
     "output_type": "stream",
     "text": [
      "Extrahiert: data/all_highways.osm.pbf\n"
     ]
    },
    {
     "name": "stderr",
     "output_type": "stream",
     "text": [
      "'osmium' is not recognized as an internal or external command,\n",
      "operable program or batch file.\n"
     ]
    },
    {
     "name": "stdout",
     "output_type": "stream",
     "text": [
      "Extrahiert: data/cycleways.osm.pbf\n"
     ]
    },
    {
     "name": "stderr",
     "output_type": "stream",
     "text": [
      "'osmium' is not recognized as an internal or external command,\n",
      "operable program or batch file.\n"
     ]
    },
    {
     "name": "stdout",
     "output_type": "stream",
     "text": [
      "Fehlt: data/bio_shops.osm.pbf\n",
      "Fehlt: data/playgrounds.osm.pbf\n",
      "Fehlt: data/hotels_hostels.osm.pbf\n",
      "Fehlt: data/gastronomy.osm.pbf\n",
      "Fehlt: data/fast_food.osm.pbf\n",
      "Fehlt: data/schools.osm.pbf\n",
      "Fehlt: data/kindergartens.osm.pbf\n",
      "Fehlt: data/green_areas.osm.pbf\n",
      "Fehlt: data/water_bodies.osm.pbf\n",
      "Fehlt: data/landuse.osm.pbf\n",
      "Fehlt: data/building_types.osm.pbf\n",
      "Fehlt: data/all_buildings.osm.pbf\n",
      "Fehlt: data/buildings_with_height_levels.osm.pbf\n",
      "Fehlt: data/health.osm.pbf\n",
      "Fehlt: data/finance.osm.pbf\n",
      "Fehlt: data/all_highways.osm.pbf\n",
      "Fehlt: data/cycleways.osm.pbf\n"
     ]
    }
   ],
   "source": [
    "# Extrahiere relevante OSM-Features direkt aus der deutschlandweiten OSM-Datei\n",
    "import os\n",
    "\n",
    "OSM_FILE = \"data/germany-latest.osm.pbf\"\n",
    "\n",
    "# Definition der zu extrahierenden Features und deren Filter\n",
    "EXTRACTIONS = [\n",
    "    # (feature_name, filter, add_km2_density, add_population_density)\n",
    "    (\"bio_shops\", 'nwr/shop=greengrocer nwr/shop=health_food nwr/shop=farm', False, False),\n",
    "    (\"playgrounds\", 'nwr/leisure=playground', False, False),\n",
    "    (\"hotels_hostels\", 'nwr/tourism=hotel nwr/tourism=hostel', False, False),\n",
    "    (\"gastronomy\", 'nwr/amenity=restaurant nwr/amenity=fast_food nwr/amenity=cafe nwr/amenity=bar', False, False),\n",
    "    (\"fast_food\", 'nwr/amenity=fast_food', False, False),\n",
    "    (\"schools\", 'nwr/amenity=school', False, False),\n",
    "    (\"kindergartens\", 'nwr/amenity=kindergarten', False, False),\n",
    "    (\"green_areas\", 'nwr/leisure=park nwr/natural=wood', False, False),\n",
    "    (\"water_bodies\", 'nwr/natural=water', False, False),\n",
    "    (\"landuse\", 'nwr/landuse=residential nwr/landuse=commercial nwr/landuse=industrial nwr/landuse=farm', False, False),\n",
    "    (\"building_types\", 'nwr/building=residential nwr/building=commercial nwr/building=apartments', False, False),\n",
    "    (\"all_buildings\", 'nwr/building', False, False),\n",
    "    (\"buildings_with_height_levels\", 'nwr/building building:levels building:height', False, False),\n",
    "    (\"health\", 'nwr/amenity=doctors nwr/amenity=pharmacy', False, False),\n",
    "    (\"finance\", 'nwr/amenity=bank nwr/amenity=atm', False, False),\n",
    "    (\"all_highways\", 'w/highway', False, False),\n",
    "    (\"cycleways\", 'w/highway=cycleway', False, False)\n",
    "]\n",
    "\n",
    "# Extrahiere .osm.pbf-Dateien\n",
    "for name, filter_str, _, _ in EXTRACTIONS:\n",
    "    pbf_path = f\"data/{name}.osm.pbf\"\n",
    "    if not os.path.exists(pbf_path):\n",
    "        !osmium tags-filter \"$OSM_FILE\" {filter_str} -o {pbf_path} --overwrite\n",
    "        print(f\"Extrahiert: {pbf_path}\")\n",
    "    else:\n",
    "        print(f\"Bereits vorhanden: {pbf_path}\")\n",
    "\n",
    "# Konvertiere alle extrahierten .osm.pbf-Dateien zu GeoJSON\n",
    "PBF_GEOJSON_PAIRS = [\n",
    "    (f\"data/{name}.osm.pbf\", f\"data/{name}.geojson\") for name, _, _, _ in EXTRACTIONS\n",
    "]\n",
    "# Prüfe, ob GeoJSON-Dateien existieren und konvertiere sie bei Bedarf\n",
    "for pbf, geojson in PBF_GEOJSON_PAIRS:\n",
    "    if not os.path.exists(geojson) and os.path.exists(pbf):\n",
    "        !ogr2ogr -f GeoJSON {geojson} {pbf} -overwrite -sql \"SELECT * FROM points\" -t_srs EPSG:25832\n",
    "        print(f\"Konvertiert: {pbf} → {geojson}\")\n",
    "    elif not os.path.exists(pbf):\n",
    "        print(f\"Fehlt: {pbf}\")\n",
    "    else:\n",
    "        print(f\"Bereits vorhanden: {geojson}\")\n"
   ]
  },
  {
   "cell_type": "markdown",
   "id": "477612b2",
   "metadata": {},
   "source": [
    "## Imports"
   ]
  },
  {
   "cell_type": "code",
   "execution_count": 2,
   "id": "47598f3a",
   "metadata": {},
   "outputs": [],
   "source": [
    "import geopandas as gpd\n",
    "import pandas as pd\n",
    "import os"
   ]
  },
  {
   "cell_type": "markdown",
   "id": "29747ad4",
   "metadata": {},
   "source": [
    "## Konfiguration"
   ]
  },
  {
   "cell_type": "code",
   "execution_count": 3,
   "id": "170235af",
   "metadata": {},
   "outputs": [
    {
     "name": "stdout",
     "output_type": "stream",
     "text": [
      "Fehler: Die GeoJSON-Datei der Bio-Läden wurde nicht gefunden unter: data/bio_shops.geojson\n",
      "Stellen Sie sicher, dass Sie 'ogr2ogr -f GeoJSON bio_shops.geojson bio_shops.osm.pbf' ausgeführt haben.\n"
     ]
    }
   ],
   "source": [
    "GEMEINDEN_GPKG = \"data/DE_VG5000.gpkg\"\n",
    "LAYER = \"v_vg5000_gem\"\n",
    "GEMEINDE_ID_COLUMN = \"Gemeindeschlüssel_AGS\"\n",
    "\n",
    "DEUTSCHLAND_ATALAS = \"data/DeutschlandAtlasData.csv\"\n",
    "\n",
    "EXTRA_FEATURES = \"data/bio_shops.geojson\"\n",
    "EXTRA_FEATURES_NAME = \"Bio-Läden\"\n",
    "\n",
    "\n",
    "ADD_KM2_DENSITY_COLUMN = False\n",
    "ADD_POPULATION_DENSITY_COLUMN = False\n",
    "\n",
    "# --- Überprüfung der Dateipfade ---\n",
    "if not os.path.exists(GEMEINDEN_GPKG):\n",
    "    print(f\"Fehler: Das GeoPackage der Gemeinden wurde nicht gefunden unter: {GEMEINDEN_GPKG}\")\n",
    "    print(\"Bitte passen Sie den Pfad 'GEMEINDEN_GPKG' im Skript an.\")\n",
    "    exit()\n",
    "\n",
    "if not os.path.exists(EXTRA_FEATURES):\n",
    "    print(f\"Fehler: Die GeoJSON-Datei der Bio-Läden wurde nicht gefunden unter: {EXTRA_FEATURES}\")\n",
    "    print(\"Stellen Sie sicher, dass Sie 'ogr2ogr -f GeoJSON bio_shops.geojson bio_shops.osm.pbf' ausgeführt haben.\")\n",
    "    exit()"
   ]
  },
  {
   "cell_type": "markdown",
   "id": "754b9f1f",
   "metadata": {},
   "source": [
    "# Adding Deutschland Atalas data"
   ]
  },
  {
   "cell_type": "code",
   "execution_count": null,
   "id": "6ce288b8",
   "metadata": {},
   "outputs": [
    {
     "ename": "NameError",
     "evalue": "name 'gemeinden_gdf' is not defined",
     "output_type": "error",
     "traceback": [
      "\u001b[31m---------------------------------------------------------------------------\u001b[39m",
      "\u001b[31mNameError\u001b[39m                                 Traceback (most recent call last)",
      "\u001b[36mCell\u001b[39m\u001b[36m \u001b[39m\u001b[32mIn[4]\u001b[39m\u001b[32m, line 4\u001b[39m\n\u001b[32m      1\u001b[39m da_df = pd.read_csv(DEUTSCHLAND_ATALAS, sep=\u001b[33m'\u001b[39m\u001b[33m;\u001b[39m\u001b[33m'\u001b[39m, decimal=\u001b[33m'\u001b[39m\u001b[33m,\u001b[39m\u001b[33m'\u001b[39m)\n\u001b[32m      2\u001b[39m da_df[\u001b[33m\"\u001b[39m\u001b[33mID\u001b[39m\u001b[33m\"\u001b[39m] = da_df[\u001b[33m\"\u001b[39m\u001b[33mID\u001b[39m\u001b[33m\"\u001b[39m].astype(\u001b[38;5;28mstr\u001b[39m)\n\u001b[32m----> \u001b[39m\u001b[32m4\u001b[39m gemeinden_gdf = \u001b[43mgemeinden_gdf\u001b[49m.merge(da_df, left_on=GEMEINDE_ID_COLUMN, right_on=\u001b[33m\"\u001b[39m\u001b[33mID\u001b[39m\u001b[33m\"\u001b[39m, how=\u001b[33m\"\u001b[39m\u001b[33mleft\u001b[39m\u001b[33m\"\u001b[39m)\n",
      "\u001b[31mNameError\u001b[39m: name 'gemeinden_gdf' is not defined"
     ]
    },
    {
     "ename": "",
     "evalue": "",
     "output_type": "error",
     "traceback": [
      "\u001b[1;31mThe Kernel crashed while executing code in the current cell or a previous cell. \n",
      "\u001b[1;31mPlease review the code in the cell(s) to identify a possible cause of the failure. \n",
      "\u001b[1;31mClick <a href='https://aka.ms/vscodeJupyterKernelCrash'>here</a> for more info. \n",
      "\u001b[1;31mView Jupyter <a href='command:jupyter.viewOutput'>log</a> for further details."
     ]
    }
   ],
   "source": [
    "da_df = pd.read_csv(DEUTSCHLAND_ATALAS, sep=';', decimal=',')\n",
    "da_df[\"ID\"] = da_df[\"ID\"].astype(str)\n",
    "\n",
    "gemeinden_gdf = gemeinden_gdf.merge(da_df, left_on=GEMEINDE_ID_COLUMN, right_on=\"ID\", how=\"left\")"
   ]
  },
  {
   "cell_type": "markdown",
   "id": "558df378",
   "metadata": {},
   "source": [
    "## Verification"
   ]
  },
  {
   "cell_type": "code",
   "execution_count": null,
   "id": "25acbcfa",
   "metadata": {},
   "outputs": [
    {
     "name": "stdout",
     "output_type": "stream",
     "text": [
      "Gemeinden geladen. Anzahl der Gemeinden: 10957\n",
      "Zusätzliche Features geladen. Anzahl der Features: 7619\n"
     ]
    }
   ],
   "source": [
    "\n",
    "try:\n",
    "    gemeinden_gdf = gpd.read_file(GEMEINDEN_GPKG, layer=LAYER)\n",
    "    extras_gdf = gpd.read_file(EXTRA_FEATURES)\n",
    "    \n",
    "    print(f\"Gemeinden geladen. Anzahl der Gemeinden: {len(gemeinden_gdf)}\")\n",
    "    if GEMEINDE_ID_COLUMN not in gemeinden_gdf.columns:\n",
    "        print(f\"Warnung: Die angegebene Gemeinden-ID-Spalte '{GEMEINDE_ID_COLUMN}' wurde nicht gefunden.\")\n",
    "        print(f\"Verfügbare Spalten: {gemeinden_gdf.columns.tolist()}\")\n",
    "        print(\"Bitte korrigieren Sie 'GEMEINDE_ID_COLUMN' im Skript, um Fortzufahren.\")\n",
    "        exit()\n",
    "\n",
    "except Exception as e:\n",
    "    print(f\"Fehler beim Laden des Gemeinden GeoPackage: {e}\")\n",
    "    exit()\n",
    "\n",
    "try:\n",
    "    print(f\"Zusätzliche Features geladen. Anzahl der Features: {len(extras_gdf)}\")\n",
    "    # Sicherstellen, dass das CRS übereinstimmt\n",
    "    if gemeinden_gdf.crs != extras_gdf.crs:\n",
    "        print(f\"CRS-Konflikt! Gemeinden CRS: {gemeinden_gdf.crs}, Zusätzliche Features CRS: {extras_gdf.crs}\")\n",
    "        exit()\n",
    "\n",
    "except Exception as e:\n",
    "    print(f\"Fehler beim Laden der GeoJSON: {e}\")\n",
    "    exit()\n"
   ]
  },
  {
   "cell_type": "markdown",
   "id": "ab4e5b04",
   "metadata": {},
   "source": [
    "## Geojoin extra featuers with Gemeinden Geopackage"
   ]
  },
  {
   "cell_type": "code",
   "execution_count": null,
   "id": "dce6bb58",
   "metadata": {},
   "outputs": [
    {
     "name": "stdout",
     "output_type": "stream",
     "text": [
      "Räumlicher Join abgeschlossen. Anzahl der gejoiniten Einträge: 7591\n",
      "Gemeinden-CRS ist bereits projiziert. Berechne Fläche in km²...\n",
      "Flächenberechnung in km² durchgeführt.\n"
     ]
    }
   ],
   "source": [
    "joined_data = gpd.sjoin(extras_gdf, gemeinden_gdf, how=\"inner\", predicate=\"within\")\n",
    "\n",
    "print(f\"Räumlicher Join abgeschlossen. Anzahl der gejoiniten Einträge: {len(joined_data)}\")\n",
    "\n",
    "counts = joined_data.groupby(GEMEINDE_ID_COLUMN).size().reset_index(name=EXTRA_FEATURES_NAME)\n",
    "\n",
    "# Fügen Sie die Zählungen wieder dem ursprünglichen Gemeinden-GeoDataFrame hinzu\n",
    "gemeinden_gdf = gemeinden_gdf.merge(counts, on=GEMEINDE_ID_COLUMN, how=\"left\")\n",
    "# Ersetzen Sie NaN-Werte (Gemeinden ohne Läden) durch 0\n",
    "gemeinden_gdf[EXTRA_FEATURES_NAME] = gemeinden_gdf[EXTRA_FEATURES_NAME].fillna(0).astype(int)\n",
    "\n",
    "if gemeinden_gdf.crs.is_geographic: # Prüft, ob es ein geografisches CRS ist (wie WGS84 - 4326)\n",
    "    print(\"Konvertiere Gemeinden-CRS für genaue Flächenberechnung (z.B. nach EPSG:3035)...\")\n",
    "    gemeinden_gdf_proj = gemeinden_gdf.to_crs(epsg=3035) # ETRS89 / LAEA Europe\n",
    "    gemeinden_gdf['Flaeche_km2'] = gemeinden_gdf_proj.geometry.area / 1_000_000 # Fläche in km²\n",
    "    print(\"Flächenberechnung in km² durchgeführt.\")\n",
    "else:\n",
    "    print(\"Gemeinden-CRS ist bereits projiziert. Berechne Fläche in km²...\")\n",
    "    gemeinden_gdf['Flaeche_km2'] = gemeinden_gdf.geometry.area / 1_000_000 # Annahme: CRS-Einheit ist Meter\n",
    "    print(\"Flächenberechnung in km² durchgeführt.\")\n"
   ]
  },
  {
   "cell_type": "code",
   "execution_count": null,
   "id": "f865d5e1",
   "metadata": {},
   "outputs": [
    {
     "name": "stdout",
     "output_type": "stream",
     "text": [
      "Bio_Shops: Join und Zählung abgeschlossen.\n",
      "Playgrounds: Join und Zählung abgeschlossen.\n",
      "Playgrounds: Join und Zählung abgeschlossen.\n",
      "Hotels_Hostels: Join und Zählung abgeschlossen.\n",
      "Warnung: Datei data/gastronomy.geojson nicht gefunden. Überspringe Gastronomy.\n",
      "Hotels_Hostels: Join und Zählung abgeschlossen.\n",
      "Warnung: Datei data/gastronomy.geojson nicht gefunden. Überspringe Gastronomy.\n",
      "Fast_Food: Join und Zählung abgeschlossen.\n",
      "Schools: Join und Zählung abgeschlossen.\n",
      "Fast_Food: Join und Zählung abgeschlossen.\n",
      "Schools: Join und Zählung abgeschlossen.\n",
      "Kindergartens: Join und Zählung abgeschlossen.\n",
      "Green_Areas: Join und Zählung abgeschlossen.\n",
      "Kindergartens: Join und Zählung abgeschlossen.\n",
      "Green_Areas: Join und Zählung abgeschlossen.\n",
      "Water_Bodies: Join und Zählung abgeschlossen.\n",
      "Water_Bodies: Join und Zählung abgeschlossen.\n",
      "Landuse: Join und Zählung abgeschlossen.\n",
      "Landuse: Join und Zählung abgeschlossen.\n",
      "Building_Types: Join und Zählung abgeschlossen.\n",
      "Building_Types: Join und Zählung abgeschlossen.\n",
      "All_Buildings: Join und Zählung abgeschlossen.\n",
      "Warnung: Datei data/buildings_with_height_levels.geojson nicht gefunden. Überspringe Buildings_With_Height_Levels.\n",
      "All_Buildings: Join und Zählung abgeschlossen.\n",
      "Warnung: Datei data/buildings_with_height_levels.geojson nicht gefunden. Überspringe Buildings_With_Height_Levels.\n",
      "Health: Join und Zählung abgeschlossen.\n",
      "Health: Join und Zählung abgeschlossen.\n",
      "Finance: Join und Zählung abgeschlossen.\n",
      "Finance: Join und Zählung abgeschlossen.\n",
      "All_Highways: Join und Zählung abgeschlossen.\n",
      "All_Highways: Join und Zählung abgeschlossen.\n",
      "Cycleways: Join und Zählung abgeschlossen.\n",
      "Cycleways: Join und Zählung abgeschlossen.\n"
     ]
    }
   ],
   "source": [
    "# Liste der zu joinenden GeoJSON-Dateien und deren Spaltennamen\n",
    "def get_feature_files():\n",
    "    return [\n",
    "        (f\"data/{name}.geojson\", name.replace('_', ' ').title().replace(' ', '_'))\n",
    "        for name, _, _, _ in EXTRACTIONS\n",
    "    ]\n",
    "\n",
    "feature_files = get_feature_files()\n",
    "\n",
    "for file_path, feature_name in feature_files:\n",
    "    if not os.path.exists(file_path):\n",
    "        print(f\"Warnung: Datei {file_path} nicht gefunden. Überspringe {feature_name}.\")\n",
    "        gemeinden_gdf[feature_name] = 0\n",
    "        continue\n",
    "    try:\n",
    "        extras_gdf = gpd.read_file(file_path)\n",
    "        if gemeinden_gdf.crs != extras_gdf.crs:\n",
    "            extras_gdf = extras_gdf.to_crs(gemeinden_gdf.crs)\n",
    "        joined = gpd.sjoin(extras_gdf, gemeinden_gdf, how=\"inner\", predicate=\"within\")\n",
    "        counts = joined.groupby(GEMEINDE_ID_COLUMN).size().reset_index(name=feature_name)\n",
    "        gemeinden_gdf = gemeinden_gdf.merge(counts, on=GEMEINDE_ID_COLUMN, how=\"left\")\n",
    "        gemeinden_gdf[feature_name] = gemeinden_gdf[feature_name].fillna(0).astype(int)\n",
    "        print(f\"{feature_name}: Join und Zählung abgeschlossen.\")\n",
    "    except Exception as e:\n",
    "        print(f\"Fehler beim Join für {feature_name}: {e}\")\n",
    "        gemeinden_gdf[feature_name] = 0\n"
   ]
  },
  {
   "cell_type": "code",
   "execution_count": null,
   "id": "52a9abe0",
   "metadata": {},
   "outputs": [],
   "source": [
    "# Dichte pro km² hinzufügen, wenn gewünscht\n",
    "if ADD_KM2_DENSITY_COLUMN:\n",
    "    NAME_DENSITY_COLUMN = 'Dichte_' + EXTRA_FEATURES_NAME + '_pro_km2'\n",
    "    gemeinden_gdf[NAME_DENSITY_COLUMN] = (\n",
    "        gemeinden_gdf[EXTRA_FEATURES_NAME] / gemeinden_gdf['Flaeche_km2']\n",
    "    ).replace([float('inf'), -float('inf')], 0).fillna(0) # Unendlich durch 0 ersetzen, NaN durch 0\n"
   ]
  },
  {
   "cell_type": "code",
   "execution_count": null,
   "id": "698b3cfb",
   "metadata": {},
   "outputs": [],
   "source": [
    "# Dichte pro Einwohner hinzufügen, wenn gewünscht\n",
    "if ADD_POPULATION_DENSITY_COLUMN:\n",
    "    NAME_DENSITY_COLUMN = 'Dichte_' + EXTRA_FEATURES_NAME + '_pro_Einwohner'\n",
    "    gemeinden_gdf['Einwohner'] = (\n",
    "        gemeinden_gdf['bev_dicht'] * gemeinden_gdf['Flaeche_km2'])\n",
    "    gemeinden_gdf[NAME_DENSITY_COLUMN] = (\n",
    "        gemeinden_gdf[EXTRA_FEATURES_NAME] / gemeinden_gdf['Einwohner']\n",
    "    ).replace([float('inf'), -float('inf')], 0).fillna(0) # Unendlich durch 0 ersetzen, NaN durch 0\n"
   ]
  },
  {
   "cell_type": "code",
   "execution_count": null,
   "id": "0081e226",
   "metadata": {},
   "outputs": [],
   "source": [
    "\n",
    "# Dichte pro km² und pro Einwohner für alle Features, die gewünscht sind\n",
    "for name, _, add_km2_density, add_population_density in EXTRACTIONS:\n",
    "    feature_col = name.replace('_', ' ').title().replace(' ', '_')\n",
    "    if add_km2_density and feature_col in gemeinden_gdf.columns:\n",
    "        density_col = f'Dichte_{feature_col}_pro_km2'\n",
    "        gemeinden_gdf[density_col] = (\n",
    "            gemeinden_gdf[feature_col] / gemeinden_gdf['Flaeche_km2']\n",
    "        ).replace([float('inf'), -float('inf')], 0).fillna(0)\n",
    "    if add_population_density and feature_col in gemeinden_gdf.columns:\n",
    "        density_col = f'Dichte_{feature_col}_pro_Einwohner'\n",
    "        if 'Einwohner' not in gemeinden_gdf.columns:\n",
    "            gemeinden_gdf['Einwohner'] = (\n",
    "                gemeinden_gdf['bev_dicht'] * gemeinden_gdf['Flaeche_km2'])\n",
    "        gemeinden_gdf[density_col] = (\n",
    "            gemeinden_gdf[feature_col] / gemeinden_gdf['Einwohner']\n",
    "        ).replace([float('inf'), -float('inf')], 0).fillna(0)\n"
   ]
  },
  {
   "cell_type": "markdown",
   "id": "af575785",
   "metadata": {},
   "source": [
    "## Pickle them for later use and shareability"
   ]
  },
  {
   "cell_type": "code",
   "execution_count": null,
   "id": "520bb7f4",
   "metadata": {},
   "outputs": [],
   "source": [
    "import pickle\n",
    "\n",
    "with open(\"data/gemeinden_gdf.pkl\", \"wb\") as f:\n",
    "    pickle.dump(gemeinden_gdf, f)"
   ]
  }
 ],
 "metadata": {
  "kernelspec": {
   "display_name": ".venv",
   "language": "python",
   "name": "python3"
  },
  "language_info": {
   "codemirror_mode": {
    "name": "ipython",
    "version": 3
   },
   "file_extension": ".py",
   "mimetype": "text/x-python",
   "name": "python",
   "nbconvert_exporter": "python",
   "pygments_lexer": "ipython3",
   "version": "3.12.7"
  }
 },
 "nbformat": 4,
 "nbformat_minor": 5
}
