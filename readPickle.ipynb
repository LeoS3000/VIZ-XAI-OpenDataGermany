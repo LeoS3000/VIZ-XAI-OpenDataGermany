{
 "cells": [
  {
   "cell_type": "markdown",
   "id": "582a981e",
   "metadata": {},
   "source": [
    "## This is an example on how the read the dataframe from pickle"
   ]
  },
  {
   "cell_type": "code",
   "execution_count": null,
   "id": "9a1dfe32",
   "metadata": {
    "vscode": {
     "languageId": "plaintext"
    }
   },
   "outputs": [],
   "source": [
    "import pickle\n",
    "df = pd.read_pickle(data/geimeinden_dgf.plk)"
   ]
  }
 ],
 "metadata": {
  "language_info": {
   "name": "python"
  }
 },
 "nbformat": 4,
 "nbformat_minor": 5
}
