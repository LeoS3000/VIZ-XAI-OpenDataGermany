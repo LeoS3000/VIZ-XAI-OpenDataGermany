{
 "cells": [
  {
   "cell_type": "code",
   "execution_count": null,
   "id": "1b07fc52",
   "metadata": {},
   "outputs": [],
   "source": []
  },
  {
   "cell_type": "code",
   "execution_count": null,
   "id": "4f0d4493",
   "metadata": {},
   "outputs": [
    {
     "ename": "",
     "evalue": "",
     "output_type": "error",
     "traceback": [
      "\u001b[1;31mFailed to start the Kernel. \n",
      "\u001b[1;31mUnable to start Kernel '.venv (Python 3.13.3)' due to a timeout waiting for the ports to get used. \n",
      "\u001b[1;31mView Jupyter <a href='command:jupyter.viewOutput'>log</a> for further details."
     ]
    }
   ],
   "source": [
    "!pip install osmium geopandas matplotlib contextily"
   ]
  },
  {
   "cell_type": "code",
   "execution_count": null,
   "id": "1f967b69",
   "metadata": {},
   "outputs": [
    {
     "name": "stdout",
     "output_type": "stream",
     "text": [
      "Reading germany-latest.osm.pbf...\n"
     ]
    }
   ],
   "source": [
    "import osmium\n",
    "import geopandas\n",
    "import matplotlib.pyplot as plt\n",
    "import contextily as cx\n",
    "import os\n",
    "\n",
    "# Download a sample PBF file\n",
    "# For this example, let's assume 'liechtenstein-latest.osm.pbf' is in the current directory.\n",
    "# You can download it from: https://download.geofabrik.de/europe/liechtenstein-latest.osm.pbf\n",
    "pbf_file = 'germany-latest.osm.pbf'\n",
    "\n",
    "if not os.path.exists(pbf_file):\n",
    "    print(f\"Error: {pbf_file} not found. Please download it first.\")\n",
    "    # You might add code here to automatically download for demonstration\n",
    "    # e.g., using requests library, but for simplicity, assuming manual download.\n",
    "    exit()\n",
    "\n",
    "print(f\"Reading {pbf_file}...\")\n",
    "\n",
    "# 1. Use osmium.FileProcessor with GeoInterfaceFilter\n",
    "# with_locations() is crucial for getting coordinates for ways/areas\n",
    "# with_areas() correctly handles closed ways and multipolygon relations for polygons\n",
    "fp = osmium.FileProcessor(pbf_file) \\\n",
    "    .with_locations() \\\n",
    "    .with_areas() \\\n",
    "    .with_filter(osmium.filter.GeoInterfaceFilter())\n",
    "\n",
    "# 2. Convert to GeoDataFrame\n",
    "# The GeoInterfaceFilter makes osmium.FileProcessor iterable with geo_interface compliant objects\n",
    "# You can filter by type here to get specific features (e.g., 'way' for roads, 'area' for buildings)\n",
    "# For a simple map, we'll collect all geoj_objects and then filter.\n",
    "geoj_objects = []\n",
    "for obj in fp:\n",
    "    if obj.is_node() or obj.is_way() or obj.is_area():\n",
    "        # Only include objects that have a geometry (i.e., not just tags)\n",
    "        if '__geo_interface__' in dir(obj):\n",
    "            geoj_objects.append(obj)\n",
    "\n",
    "# Create a GeoDataFrame from the collected objects\n",
    "# Filter for geometry types relevant to plotting (points, lines, polygons)\n",
    "# Note: This approach collects all features first, which can be memory intensive for large files.\n",
    "# For very large files, consider iterating and appending to lists for nodes, ways, areas separately\n",
    "# or using pyrosm as it's optimized for extracting common features.\n",
    "# For this example, let's just plot all geometries.\n",
    "try:\n",
    "    gdf = geopandas.GeoDataFrame.from_features(geoj_objects, crs=\"EPSG:4326\")\n",
    "    print(f\"Loaded {len(gdf)} features into GeoDataFrame.\")\n",
    "\n",
    "    # Filter out potential empty geometries or non-spatial objects if any\n",
    "    gdf = gdf[~gdf.geometry.is_empty]\n",
    "\n",
    "    if gdf.empty:\n",
    "        print(\"No valid geometries found to plot.\")\n",
    "    else:\n",
    "        # Separate data by geometry type for different plotting styles\n",
    "        points = gdf[gdf.geometry.geom_type == 'Point']\n",
    "        lines = gdf[gdf.geometry.geom_type == 'LineString']\n",
    "        polygons = gdf[gdf.geometry.geom_type == 'Polygon']\n",
    "        multi_polygons = gdf[gdf.geometry.geom_type == 'MultiPolygon']\n",
    "        # Handle MultiLineString if present\n",
    "        multi_lines = gdf[gdf.geometry.geom_type == 'MultiLineString']\n",
    "        lines = geopandas.GeoDataFrame(pd.concat([lines, multi_lines], ignore_index=True), crs=gdf.crs)\n",
    "\n",
    "\n",
    "        # 3. Plot the data\n",
    "        fig, ax = plt.subplots(1, 1, figsize=(10, 10))\n",
    "\n",
    "        # Plot polygons (e.g., buildings, landuse)\n",
    "        if not polygons.empty:\n",
    "            polygons.plot(ax=ax, color='lightgray', edgecolor='darkgray', linewidth=0.5, label='Polygons')\n",
    "        if not multi_polygons.empty:\n",
    "            multi_polygons.plot(ax=ax, color='lightgray', edgecolor='darkgray', linewidth=0.5, label='Polygons')\n",
    "\n",
    "        # Plot lines (e.g., roads, paths)\n",
    "        if not lines.empty:\n",
    "            lines.plot(ax=ax, color='blue', linewidth=1, label='Lines')\n",
    "\n",
    "        # Plot points (e.g., POIs, nodes) - consider plotting only significant points or sampling\n",
    "        if not points.empty:\n",
    "            points.plot(ax=ax, color='red', markersize=5, label='Points', zorder=5) # zorder to ensure points are on top\n",
    "\n",
    "        # Add a basemap for context (requires `contextily`)\n",
    "        # Ensure your GeoDataFrame is in Web Mercator (EPSG:3857) for best basemap results\n",
    "        # OSM data is typically in WGS84 (EPSG:4326), so reproject for basemap\n",
    "        if not gdf.empty:\n",
    "            gdf_webmercator = gdf.to_crs(epsg=3857)\n",
    "            cx.add_basemap(ax, crs=gdf_webmercator.crs.to_string(), source=cx.providers.OpenStreetMap.Mapnik)\n",
    "            ax.set_title(f\"OSM Data from {pbf_file}\")\n",
    "            ax.set_axis_off() # Turn off axes for a cleaner map look\n",
    "            plt.legend()\n",
    "            plt.show()\n",
    "        else:\n",
    "            print(\"No geometries to reproject for basemap.\")\n",
    "\n",
    "except Exception as e:\n",
    "    print(f\"An error occurred during processing or plotting: {e}\")\n",
    "    print(\"Ensure you have a valid PBF file and necessary libraries installed.\")"
   ]
  }
 ],
 "metadata": {
  "kernelspec": {
   "display_name": ".venv",
   "language": "python",
   "name": "python3"
  },
  "language_info": {
   "codemirror_mode": {
    "name": "ipython",
    "version": 3
   },
   "file_extension": ".py",
   "mimetype": "text/x-python",
   "name": "python",
   "nbconvert_exporter": "python",
   "pygments_lexer": "ipython3",
   "version": "3.13.3"
  }
 },
 "nbformat": 4,
 "nbformat_minor": 5
}
